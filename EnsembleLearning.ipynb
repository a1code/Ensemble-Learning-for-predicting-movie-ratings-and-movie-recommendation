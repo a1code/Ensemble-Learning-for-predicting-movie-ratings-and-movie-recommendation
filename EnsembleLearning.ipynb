{
  "nbformat": 4,
  "nbformat_minor": 0,
  "metadata": {
    "kernelspec": {
      "display_name": "Python 3",
      "language": "python",
      "name": "python3"
    },
    "language_info": {
      "codemirror_mode": {
        "name": "ipython",
        "version": 3
      },
      "file_extension": ".py",
      "mimetype": "text/x-python",
      "name": "python",
      "nbconvert_exporter": "python",
      "pygments_lexer": "ipython3",
      "version": "3.6.5"
    },
    "colab": {
      "name": "EnsembleLearning.ipynb",
      "provenance": []
    }
  },
  "cells": [
    {
      "cell_type": "code",
      "metadata": {
        "id": "VrkiOrdqtNJF",
        "outputId": "4a4cb4f1-eaa4-48e2-d83d-40acd2c48bb2",
        "colab": {
          "base_uri": "https://localhost:8080/",
          "height": 34
        }
      },
      "source": [
        "from google.colab import drive\n",
        "drive.mount('/content/drive')"
      ],
      "execution_count": 1,
      "outputs": [
        {
          "output_type": "stream",
          "text": [
            "Drive already mounted at /content/drive; to attempt to forcibly remount, call drive.mount(\"/content/drive\", force_remount=True).\n"
          ],
          "name": "stdout"
        }
      ]
    },
    {
      "cell_type": "code",
      "metadata": {
        "id": "UxnAQcKhtP3w"
      },
      "source": [
        "PROJECT_DIR = \"/content/drive/My Drive/Project_EnsembleLearning/\""
      ],
      "execution_count": 2,
      "outputs": []
    },
    {
      "cell_type": "code",
      "metadata": {
        "id": "p2QEkW2CswlZ"
      },
      "source": [
        "import pandas as pd"
      ],
      "execution_count": 3,
      "outputs": []
    },
    {
      "cell_type": "markdown",
      "metadata": {
        "id": "yzj1ssHLswmK"
      },
      "source": [
        "## NMF Results"
      ]
    },
    {
      "cell_type": "code",
      "metadata": {
        "id": "XpSH41UFswmP",
        "outputId": "28bb5216-aaea-4c58-948e-ce5602dfdc21",
        "colab": {
          "base_uri": "https://localhost:8080/",
          "height": 206
        }
      },
      "source": [
        "NMF_results = pd.read_csv(PROJECT_DIR + 'predictions/prediction_nmf.csv')\n",
        "NMF_results.rename(columns = {'predicted_rating':'NMF_predicted_rating'}, inplace = True)\n",
        "NMF_results.head()"
      ],
      "execution_count": 4,
      "outputs": [
        {
          "output_type": "execute_result",
          "data": {
            "text/html": [
              "<div>\n",
              "<style scoped>\n",
              "    .dataframe tbody tr th:only-of-type {\n",
              "        vertical-align: middle;\n",
              "    }\n",
              "\n",
              "    .dataframe tbody tr th {\n",
              "        vertical-align: top;\n",
              "    }\n",
              "\n",
              "    .dataframe thead th {\n",
              "        text-align: right;\n",
              "    }\n",
              "</style>\n",
              "<table border=\"1\" class=\"dataframe\">\n",
              "  <thead>\n",
              "    <tr style=\"text-align: right;\">\n",
              "      <th></th>\n",
              "      <th>userId</th>\n",
              "      <th>movieId</th>\n",
              "      <th>NMF_predicted_rating</th>\n",
              "      <th>rating</th>\n",
              "    </tr>\n",
              "  </thead>\n",
              "  <tbody>\n",
              "    <tr>\n",
              "      <th>0</th>\n",
              "      <td>1</td>\n",
              "      <td>307</td>\n",
              "      <td>3.794839</td>\n",
              "      <td>3.5</td>\n",
              "    </tr>\n",
              "    <tr>\n",
              "      <th>1</th>\n",
              "      <td>1</td>\n",
              "      <td>1590</td>\n",
              "      <td>2.693830</td>\n",
              "      <td>2.5</td>\n",
              "    </tr>\n",
              "    <tr>\n",
              "      <th>2</th>\n",
              "      <td>1</td>\n",
              "      <td>3424</td>\n",
              "      <td>3.902669</td>\n",
              "      <td>4.5</td>\n",
              "    </tr>\n",
              "    <tr>\n",
              "      <th>3</th>\n",
              "      <td>2</td>\n",
              "      <td>170</td>\n",
              "      <td>2.736179</td>\n",
              "      <td>3.5</td>\n",
              "    </tr>\n",
              "    <tr>\n",
              "      <th>4</th>\n",
              "      <td>2</td>\n",
              "      <td>1296</td>\n",
              "      <td>4.062953</td>\n",
              "      <td>4.5</td>\n",
              "    </tr>\n",
              "  </tbody>\n",
              "</table>\n",
              "</div>"
            ],
            "text/plain": [
              "   userId  movieId  NMF_predicted_rating  rating\n",
              "0       1      307              3.794839     3.5\n",
              "1       1     1590              2.693830     2.5\n",
              "2       1     3424              3.902669     4.5\n",
              "3       2      170              2.736179     3.5\n",
              "4       2     1296              4.062953     4.5"
            ]
          },
          "metadata": {
            "tags": []
          },
          "execution_count": 4
        }
      ]
    },
    {
      "cell_type": "code",
      "metadata": {
        "id": "LLwf4mBCswmy",
        "outputId": "7f569e08-863c-454d-a85a-6394522e0d2d",
        "colab": {
          "base_uri": "https://localhost:8080/",
          "height": 34
        }
      },
      "source": [
        "from sklearn.metrics import mean_absolute_error\n",
        "print(mean_absolute_error(NMF_results['rating'], NMF_results['NMF_predicted_rating']))"
      ],
      "execution_count": 5,
      "outputs": [
        {
          "output_type": "stream",
          "text": [
            "0.6871262483676177\n"
          ],
          "name": "stdout"
        }
      ]
    },
    {
      "cell_type": "code",
      "metadata": {
        "id": "gNBSn2T8swnN",
        "outputId": "c385ccc8-a348-4f1f-f775-c6eb22825dfb",
        "colab": {
          "base_uri": "https://localhost:8080/",
          "height": 34
        }
      },
      "source": [
        "from sklearn.metrics import mean_squared_error\n",
        "from math import sqrt\n",
        "\n",
        "rmse = sqrt(mean_squared_error(NMF_results['rating'], NMF_results['NMF_predicted_rating']))\n",
        "rmse"
      ],
      "execution_count": 6,
      "outputs": [
        {
          "output_type": "execute_result",
          "data": {
            "text/plain": [
              "0.9000662681096053"
            ]
          },
          "metadata": {
            "tags": []
          },
          "execution_count": 6
        }
      ]
    },
    {
      "cell_type": "markdown",
      "metadata": {
        "id": "5lyqxraXswnl"
      },
      "source": [
        "## Coclustering Results"
      ]
    },
    {
      "cell_type": "code",
      "metadata": {
        "id": "uCvlOgjsswnr",
        "outputId": "7168b318-91b6-4412-895d-4f1e09ad890f",
        "colab": {
          "base_uri": "https://localhost:8080/",
          "height": 206
        }
      },
      "source": [
        "CoClustering_results = pd.read_csv(PROJECT_DIR + 'predictions/prediction_cocluster.csv')\n",
        "CoClustering_results.rename(columns = {'predicted_rating':'CoClustering_predicted_rating'}, inplace = True)\n",
        "CoClustering_results.head()"
      ],
      "execution_count": 7,
      "outputs": [
        {
          "output_type": "execute_result",
          "data": {
            "text/html": [
              "<div>\n",
              "<style scoped>\n",
              "    .dataframe tbody tr th:only-of-type {\n",
              "        vertical-align: middle;\n",
              "    }\n",
              "\n",
              "    .dataframe tbody tr th {\n",
              "        vertical-align: top;\n",
              "    }\n",
              "\n",
              "    .dataframe thead th {\n",
              "        text-align: right;\n",
              "    }\n",
              "</style>\n",
              "<table border=\"1\" class=\"dataframe\">\n",
              "  <thead>\n",
              "    <tr style=\"text-align: right;\">\n",
              "      <th></th>\n",
              "      <th>userId</th>\n",
              "      <th>movieId</th>\n",
              "      <th>CoClustering_predicted_rating</th>\n",
              "      <th>rating</th>\n",
              "    </tr>\n",
              "  </thead>\n",
              "  <tbody>\n",
              "    <tr>\n",
              "      <th>0</th>\n",
              "      <td>1</td>\n",
              "      <td>307</td>\n",
              "      <td>3.691498</td>\n",
              "      <td>3.5</td>\n",
              "    </tr>\n",
              "    <tr>\n",
              "      <th>1</th>\n",
              "      <td>1</td>\n",
              "      <td>1590</td>\n",
              "      <td>2.189747</td>\n",
              "      <td>2.5</td>\n",
              "    </tr>\n",
              "    <tr>\n",
              "      <th>2</th>\n",
              "      <td>1</td>\n",
              "      <td>3424</td>\n",
              "      <td>3.352594</td>\n",
              "      <td>4.5</td>\n",
              "    </tr>\n",
              "    <tr>\n",
              "      <th>3</th>\n",
              "      <td>2</td>\n",
              "      <td>170</td>\n",
              "      <td>3.089838</td>\n",
              "      <td>3.5</td>\n",
              "    </tr>\n",
              "    <tr>\n",
              "      <th>4</th>\n",
              "      <td>2</td>\n",
              "      <td>1296</td>\n",
              "      <td>3.606797</td>\n",
              "      <td>4.5</td>\n",
              "    </tr>\n",
              "  </tbody>\n",
              "</table>\n",
              "</div>"
            ],
            "text/plain": [
              "   userId  movieId  CoClustering_predicted_rating  rating\n",
              "0       1      307                       3.691498     3.5\n",
              "1       1     1590                       2.189747     2.5\n",
              "2       1     3424                       3.352594     4.5\n",
              "3       2      170                       3.089838     3.5\n",
              "4       2     1296                       3.606797     4.5"
            ]
          },
          "metadata": {
            "tags": []
          },
          "execution_count": 7
        }
      ]
    },
    {
      "cell_type": "code",
      "metadata": {
        "id": "efVcGHETswoD",
        "outputId": "a39a4364-4e37-4268-8b70-24ab73cd3a5b",
        "colab": {
          "base_uri": "https://localhost:8080/",
          "height": 34
        }
      },
      "source": [
        "from sklearn.metrics import mean_absolute_error\n",
        "print(mean_absolute_error(CoClustering_results['rating'], CoClustering_results['CoClustering_predicted_rating']))"
      ],
      "execution_count": 8,
      "outputs": [
        {
          "output_type": "stream",
          "text": [
            "0.7143870388736728\n"
          ],
          "name": "stdout"
        }
      ]
    },
    {
      "cell_type": "code",
      "metadata": {
        "id": "Aw2IHC4QswoY",
        "outputId": "409a0493-d8ef-4f84-e84f-e4e69fc26c3a",
        "colab": {
          "base_uri": "https://localhost:8080/",
          "height": 34
        }
      },
      "source": [
        "from sklearn.metrics import mean_squared_error\n",
        "from math import sqrt\n",
        "\n",
        "rmse = sqrt(mean_squared_error(CoClustering_results['rating'], CoClustering_results['CoClustering_predicted_rating']))\n",
        "rmse"
      ],
      "execution_count": 9,
      "outputs": [
        {
          "output_type": "execute_result",
          "data": {
            "text/plain": [
              "0.9222319913063152"
            ]
          },
          "metadata": {
            "tags": []
          },
          "execution_count": 9
        }
      ]
    },
    {
      "cell_type": "markdown",
      "metadata": {
        "id": "f3XYPZ7yswoq"
      },
      "source": [
        "## SVD Results"
      ]
    },
    {
      "cell_type": "code",
      "metadata": {
        "id": "kDjSuKEkswou",
        "outputId": "386fab2e-58b7-4df9-8479-7d783414f2b0",
        "colab": {
          "base_uri": "https://localhost:8080/",
          "height": 206
        }
      },
      "source": [
        "SVD_results = pd.read_csv(PROJECT_DIR + 'predictions/prediction_svd.csv')\n",
        "SVD_results.rename(columns = {'predicted_rating':'SVD_predicted_rating'}, inplace = True)\n",
        "SVD_results.head()"
      ],
      "execution_count": 10,
      "outputs": [
        {
          "output_type": "execute_result",
          "data": {
            "text/html": [
              "<div>\n",
              "<style scoped>\n",
              "    .dataframe tbody tr th:only-of-type {\n",
              "        vertical-align: middle;\n",
              "    }\n",
              "\n",
              "    .dataframe tbody tr th {\n",
              "        vertical-align: top;\n",
              "    }\n",
              "\n",
              "    .dataframe thead th {\n",
              "        text-align: right;\n",
              "    }\n",
              "</style>\n",
              "<table border=\"1\" class=\"dataframe\">\n",
              "  <thead>\n",
              "    <tr style=\"text-align: right;\">\n",
              "      <th></th>\n",
              "      <th>userId</th>\n",
              "      <th>movieId</th>\n",
              "      <th>SVD_predicted_rating</th>\n",
              "      <th>rating</th>\n",
              "    </tr>\n",
              "  </thead>\n",
              "  <tbody>\n",
              "    <tr>\n",
              "      <th>0</th>\n",
              "      <td>1</td>\n",
              "      <td>307</td>\n",
              "      <td>4.120856</td>\n",
              "      <td>3.5</td>\n",
              "    </tr>\n",
              "    <tr>\n",
              "      <th>1</th>\n",
              "      <td>1</td>\n",
              "      <td>1590</td>\n",
              "      <td>3.090500</td>\n",
              "      <td>2.5</td>\n",
              "    </tr>\n",
              "    <tr>\n",
              "      <th>2</th>\n",
              "      <td>1</td>\n",
              "      <td>3424</td>\n",
              "      <td>3.624880</td>\n",
              "      <td>4.5</td>\n",
              "    </tr>\n",
              "    <tr>\n",
              "      <th>3</th>\n",
              "      <td>2</td>\n",
              "      <td>170</td>\n",
              "      <td>3.238539</td>\n",
              "      <td>3.5</td>\n",
              "    </tr>\n",
              "    <tr>\n",
              "      <th>4</th>\n",
              "      <td>2</td>\n",
              "      <td>1296</td>\n",
              "      <td>3.875873</td>\n",
              "      <td>4.5</td>\n",
              "    </tr>\n",
              "  </tbody>\n",
              "</table>\n",
              "</div>"
            ],
            "text/plain": [
              "   userId  movieId  SVD_predicted_rating  rating\n",
              "0       1      307              4.120856     3.5\n",
              "1       1     1590              3.090500     2.5\n",
              "2       1     3424              3.624880     4.5\n",
              "3       2      170              3.238539     3.5\n",
              "4       2     1296              3.875873     4.5"
            ]
          },
          "metadata": {
            "tags": []
          },
          "execution_count": 10
        }
      ]
    },
    {
      "cell_type": "code",
      "metadata": {
        "id": "bwmArtdxswpD",
        "outputId": "4fa07916-7a2d-48b9-c218-4847181b7de4",
        "colab": {
          "base_uri": "https://localhost:8080/",
          "height": 34
        }
      },
      "source": [
        "from sklearn.metrics import mean_absolute_error\n",
        "print(mean_absolute_error(SVD_results['rating'], SVD_results['SVD_predicted_rating']))"
      ],
      "execution_count": 11,
      "outputs": [
        {
          "output_type": "stream",
          "text": [
            "0.6461972158000439\n"
          ],
          "name": "stdout"
        }
      ]
    },
    {
      "cell_type": "code",
      "metadata": {
        "id": "S-Me88UNswpZ",
        "outputId": "3fc13ade-7d50-48f3-a4f8-e6d43d44fe68",
        "colab": {
          "base_uri": "https://localhost:8080/",
          "height": 34
        }
      },
      "source": [
        "from sklearn.metrics import mean_squared_error\n",
        "from math import sqrt\n",
        "\n",
        "rmse = sqrt(mean_squared_error(SVD_results['rating'], SVD_results['SVD_predicted_rating']))\n",
        "rmse"
      ],
      "execution_count": 12,
      "outputs": [
        {
          "output_type": "execute_result",
          "data": {
            "text/plain": [
              "0.8476071579404905"
            ]
          },
          "metadata": {
            "tags": []
          },
          "execution_count": 12
        }
      ]
    },
    {
      "cell_type": "markdown",
      "metadata": {
        "id": "EVXxmh9aswpx"
      },
      "source": [
        "## Neural Network Results"
      ]
    },
    {
      "cell_type": "code",
      "metadata": {
        "id": "7yddJlWjswp2",
        "outputId": "8abd4cdb-ee33-4586-c1e1-f2245d2b9db1",
        "colab": {
          "base_uri": "https://localhost:8080/",
          "height": 206
        }
      },
      "source": [
        "NN_results = pd.read_csv(PROJECT_DIR + 'predictions/prediction_neuralnet.csv')\n",
        "NN_results.rename(columns = {'predicted_rating':'NN_predicted_rating'}, inplace = True)\n",
        "NN_results.head()"
      ],
      "execution_count": 13,
      "outputs": [
        {
          "output_type": "execute_result",
          "data": {
            "text/html": [
              "<div>\n",
              "<style scoped>\n",
              "    .dataframe tbody tr th:only-of-type {\n",
              "        vertical-align: middle;\n",
              "    }\n",
              "\n",
              "    .dataframe tbody tr th {\n",
              "        vertical-align: top;\n",
              "    }\n",
              "\n",
              "    .dataframe thead th {\n",
              "        text-align: right;\n",
              "    }\n",
              "</style>\n",
              "<table border=\"1\" class=\"dataframe\">\n",
              "  <thead>\n",
              "    <tr style=\"text-align: right;\">\n",
              "      <th></th>\n",
              "      <th>Unnamed: 0</th>\n",
              "      <th>userId</th>\n",
              "      <th>movieId</th>\n",
              "      <th>rating</th>\n",
              "      <th>NN_predicted_rating</th>\n",
              "    </tr>\n",
              "  </thead>\n",
              "  <tbody>\n",
              "    <tr>\n",
              "      <th>0</th>\n",
              "      <td>0</td>\n",
              "      <td>1</td>\n",
              "      <td>307</td>\n",
              "      <td>3.5</td>\n",
              "      <td>1.874426</td>\n",
              "    </tr>\n",
              "    <tr>\n",
              "      <th>1</th>\n",
              "      <td>1</td>\n",
              "      <td>1</td>\n",
              "      <td>1590</td>\n",
              "      <td>2.5</td>\n",
              "      <td>1.791898</td>\n",
              "    </tr>\n",
              "    <tr>\n",
              "      <th>2</th>\n",
              "      <td>2</td>\n",
              "      <td>1</td>\n",
              "      <td>3424</td>\n",
              "      <td>4.5</td>\n",
              "      <td>3.000674</td>\n",
              "    </tr>\n",
              "    <tr>\n",
              "      <th>3</th>\n",
              "      <td>3</td>\n",
              "      <td>2</td>\n",
              "      <td>170</td>\n",
              "      <td>3.5</td>\n",
              "      <td>3.004210</td>\n",
              "    </tr>\n",
              "    <tr>\n",
              "      <th>4</th>\n",
              "      <td>4</td>\n",
              "      <td>2</td>\n",
              "      <td>1296</td>\n",
              "      <td>4.5</td>\n",
              "      <td>4.011952</td>\n",
              "    </tr>\n",
              "  </tbody>\n",
              "</table>\n",
              "</div>"
            ],
            "text/plain": [
              "   Unnamed: 0  userId  movieId  rating  NN_predicted_rating\n",
              "0           0       1      307     3.5             1.874426\n",
              "1           1       1     1590     2.5             1.791898\n",
              "2           2       1     3424     4.5             3.000674\n",
              "3           3       2      170     3.5             3.004210\n",
              "4           4       2     1296     4.5             4.011952"
            ]
          },
          "metadata": {
            "tags": []
          },
          "execution_count": 13
        }
      ]
    },
    {
      "cell_type": "code",
      "metadata": {
        "id": "9Lwp1FJBswqU",
        "outputId": "bde2055e-e5f2-4023-8f5b-a7b3bd4b3adc",
        "colab": {
          "base_uri": "https://localhost:8080/",
          "height": 34
        }
      },
      "source": [
        "from sklearn.metrics import mean_absolute_error\n",
        "print(mean_absolute_error(NN_results['rating'], NN_results['NN_predicted_rating']))"
      ],
      "execution_count": 14,
      "outputs": [
        {
          "output_type": "stream",
          "text": [
            "1.011494821352931\n"
          ],
          "name": "stdout"
        }
      ]
    },
    {
      "cell_type": "code",
      "metadata": {
        "id": "D3BHE10tswqu",
        "outputId": "bf39899d-133a-455a-adb6-3424afcadff1",
        "colab": {
          "base_uri": "https://localhost:8080/",
          "height": 34
        }
      },
      "source": [
        "from sklearn.metrics import mean_squared_error\n",
        "from math import sqrt\n",
        "\n",
        "rmse = sqrt(mean_squared_error(NN_results['rating'], NN_results['NN_predicted_rating']))\n",
        "rmse"
      ],
      "execution_count": 15,
      "outputs": [
        {
          "output_type": "execute_result",
          "data": {
            "text/plain": [
              "1.3070530429805927"
            ]
          },
          "metadata": {
            "tags": []
          },
          "execution_count": 15
        }
      ]
    },
    {
      "cell_type": "markdown",
      "metadata": {
        "id": "BkBAU4Qcswq9"
      },
      "source": [
        "## ALS Results"
      ]
    },
    {
      "cell_type": "code",
      "metadata": {
        "id": "W82LavrWswrB",
        "outputId": "08ad303a-9348-4083-d8ff-feaff71b6e96",
        "colab": {
          "base_uri": "https://localhost:8080/",
          "height": 206
        }
      },
      "source": [
        "ALS_results = pd.read_csv(PROJECT_DIR + 'predictions/prediction_als.csv')\n",
        "ALS_results.rename(columns = {'predicted_rating':'ALS_predicted_rating'}, inplace = True)\n",
        "ALS_results.head()"
      ],
      "execution_count": 16,
      "outputs": [
        {
          "output_type": "execute_result",
          "data": {
            "text/html": [
              "<div>\n",
              "<style scoped>\n",
              "    .dataframe tbody tr th:only-of-type {\n",
              "        vertical-align: middle;\n",
              "    }\n",
              "\n",
              "    .dataframe tbody tr th {\n",
              "        vertical-align: top;\n",
              "    }\n",
              "\n",
              "    .dataframe thead th {\n",
              "        text-align: right;\n",
              "    }\n",
              "</style>\n",
              "<table border=\"1\" class=\"dataframe\">\n",
              "  <thead>\n",
              "    <tr style=\"text-align: right;\">\n",
              "      <th></th>\n",
              "      <th>userId</th>\n",
              "      <th>movieId</th>\n",
              "      <th>ALS_predicted_rating</th>\n",
              "      <th>rating</th>\n",
              "    </tr>\n",
              "  </thead>\n",
              "  <tbody>\n",
              "    <tr>\n",
              "      <th>0</th>\n",
              "      <td>9591</td>\n",
              "      <td>32196</td>\n",
              "      <td>4.228439</td>\n",
              "      <td>3.5</td>\n",
              "    </tr>\n",
              "    <tr>\n",
              "      <th>1</th>\n",
              "      <td>5219</td>\n",
              "      <td>32196</td>\n",
              "      <td>2.835220</td>\n",
              "      <td>2.5</td>\n",
              "    </tr>\n",
              "    <tr>\n",
              "      <th>2</th>\n",
              "      <td>4796</td>\n",
              "      <td>91902</td>\n",
              "      <td>2.468013</td>\n",
              "      <td>4.5</td>\n",
              "    </tr>\n",
              "    <tr>\n",
              "      <th>3</th>\n",
              "      <td>4979</td>\n",
              "      <td>91902</td>\n",
              "      <td>1.387823</td>\n",
              "      <td>3.5</td>\n",
              "    </tr>\n",
              "    <tr>\n",
              "      <th>4</th>\n",
              "      <td>3846</td>\n",
              "      <td>68522</td>\n",
              "      <td>5.526903</td>\n",
              "      <td>4.5</td>\n",
              "    </tr>\n",
              "  </tbody>\n",
              "</table>\n",
              "</div>"
            ],
            "text/plain": [
              "   userId  movieId  ALS_predicted_rating  rating\n",
              "0    9591    32196              4.228439     3.5\n",
              "1    5219    32196              2.835220     2.5\n",
              "2    4796    91902              2.468013     4.5\n",
              "3    4979    91902              1.387823     3.5\n",
              "4    3846    68522              5.526903     4.5"
            ]
          },
          "metadata": {
            "tags": []
          },
          "execution_count": 16
        }
      ]
    },
    {
      "cell_type": "code",
      "metadata": {
        "id": "_LFIWf1pswrT",
        "outputId": "f8b59771-e3b3-4fb9-f796-bded37811e2f",
        "colab": {
          "base_uri": "https://localhost:8080/",
          "height": 34
        }
      },
      "source": [
        "from sklearn.metrics import mean_absolute_error\n",
        "print(mean_absolute_error(ALS_results['rating'], ALS_results['ALS_predicted_rating']))"
      ],
      "execution_count": 17,
      "outputs": [
        {
          "output_type": "stream",
          "text": [
            "1.0483368957654835\n"
          ],
          "name": "stdout"
        }
      ]
    },
    {
      "cell_type": "code",
      "metadata": {
        "id": "8a4DBYp9swrj",
        "outputId": "9410534a-6488-4a71-fd37-f440f2d243b0",
        "colab": {
          "base_uri": "https://localhost:8080/",
          "height": 34
        }
      },
      "source": [
        "from sklearn.metrics import mean_squared_error\n",
        "from math import sqrt\n",
        "\n",
        "rmse = sqrt(mean_squared_error(ALS_results['rating'], ALS_results['ALS_predicted_rating']))\n",
        "rmse"
      ],
      "execution_count": 18,
      "outputs": [
        {
          "output_type": "execute_result",
          "data": {
            "text/plain": [
              "1.3392225856999769"
            ]
          },
          "metadata": {
            "tags": []
          },
          "execution_count": 18
        }
      ]
    },
    {
      "cell_type": "markdown",
      "metadata": {
        "id": "S9yb3S6Iswry"
      },
      "source": [
        "## Ensemble Results"
      ]
    },
    {
      "cell_type": "code",
      "metadata": {
        "id": "q8gjfh6Rswr1",
        "outputId": "7ba3fa92-ce58-488c-a096-1ca2f1436c46",
        "colab": {
          "base_uri": "https://localhost:8080/",
          "height": 206
        }
      },
      "source": [
        "Ensemble_DF = NMF_results\n",
        "Ensemble_DF['CoClustering_predicted_rating'] = CoClustering_results['CoClustering_predicted_rating']\n",
        "Ensemble_DF['SVD_predicted_rating'] = SVD_results['SVD_predicted_rating']\n",
        "Ensemble_DF['NN_predicted_rating'] = NN_results['NN_predicted_rating']\n",
        "Ensemble_DF['ALS_predicted_rating'] = ALS_results['ALS_predicted_rating']\n",
        "\n",
        "Ensemble_DF.head()"
      ],
      "execution_count": 19,
      "outputs": [
        {
          "output_type": "execute_result",
          "data": {
            "text/html": [
              "<div>\n",
              "<style scoped>\n",
              "    .dataframe tbody tr th:only-of-type {\n",
              "        vertical-align: middle;\n",
              "    }\n",
              "\n",
              "    .dataframe tbody tr th {\n",
              "        vertical-align: top;\n",
              "    }\n",
              "\n",
              "    .dataframe thead th {\n",
              "        text-align: right;\n",
              "    }\n",
              "</style>\n",
              "<table border=\"1\" class=\"dataframe\">\n",
              "  <thead>\n",
              "    <tr style=\"text-align: right;\">\n",
              "      <th></th>\n",
              "      <th>userId</th>\n",
              "      <th>movieId</th>\n",
              "      <th>NMF_predicted_rating</th>\n",
              "      <th>rating</th>\n",
              "      <th>CoClustering_predicted_rating</th>\n",
              "      <th>SVD_predicted_rating</th>\n",
              "      <th>NN_predicted_rating</th>\n",
              "      <th>ALS_predicted_rating</th>\n",
              "    </tr>\n",
              "  </thead>\n",
              "  <tbody>\n",
              "    <tr>\n",
              "      <th>0</th>\n",
              "      <td>1</td>\n",
              "      <td>307</td>\n",
              "      <td>3.794839</td>\n",
              "      <td>3.5</td>\n",
              "      <td>3.691498</td>\n",
              "      <td>4.120856</td>\n",
              "      <td>1.874426</td>\n",
              "      <td>4.228439</td>\n",
              "    </tr>\n",
              "    <tr>\n",
              "      <th>1</th>\n",
              "      <td>1</td>\n",
              "      <td>1590</td>\n",
              "      <td>2.693830</td>\n",
              "      <td>2.5</td>\n",
              "      <td>2.189747</td>\n",
              "      <td>3.090500</td>\n",
              "      <td>1.791898</td>\n",
              "      <td>2.835220</td>\n",
              "    </tr>\n",
              "    <tr>\n",
              "      <th>2</th>\n",
              "      <td>1</td>\n",
              "      <td>3424</td>\n",
              "      <td>3.902669</td>\n",
              "      <td>4.5</td>\n",
              "      <td>3.352594</td>\n",
              "      <td>3.624880</td>\n",
              "      <td>3.000674</td>\n",
              "      <td>2.468013</td>\n",
              "    </tr>\n",
              "    <tr>\n",
              "      <th>3</th>\n",
              "      <td>2</td>\n",
              "      <td>170</td>\n",
              "      <td>2.736179</td>\n",
              "      <td>3.5</td>\n",
              "      <td>3.089838</td>\n",
              "      <td>3.238539</td>\n",
              "      <td>3.004210</td>\n",
              "      <td>1.387823</td>\n",
              "    </tr>\n",
              "    <tr>\n",
              "      <th>4</th>\n",
              "      <td>2</td>\n",
              "      <td>1296</td>\n",
              "      <td>4.062953</td>\n",
              "      <td>4.5</td>\n",
              "      <td>3.606797</td>\n",
              "      <td>3.875873</td>\n",
              "      <td>4.011952</td>\n",
              "      <td>5.526903</td>\n",
              "    </tr>\n",
              "  </tbody>\n",
              "</table>\n",
              "</div>"
            ],
            "text/plain": [
              "   userId  movieId  ...  NN_predicted_rating  ALS_predicted_rating\n",
              "0       1      307  ...             1.874426              4.228439\n",
              "1       1     1590  ...             1.791898              2.835220\n",
              "2       1     3424  ...             3.000674              2.468013\n",
              "3       2      170  ...             3.004210              1.387823\n",
              "4       2     1296  ...             4.011952              5.526903\n",
              "\n",
              "[5 rows x 8 columns]"
            ]
          },
          "metadata": {
            "tags": []
          },
          "execution_count": 19
        }
      ]
    },
    {
      "cell_type": "code",
      "metadata": {
        "id": "6dpQuSF9swsD",
        "outputId": "e50d38f9-f8f9-4a0d-cd43-e38072f0dfc9",
        "colab": {
          "base_uri": "https://localhost:8080/",
          "height": 206
        }
      },
      "source": [
        "# compute average predicted rating\n",
        "\n",
        "Ensemble_DF['Ensemble_Rating'] = (Ensemble_DF['CoClustering_predicted_rating'] \n",
        "                                  +Ensemble_DF['NMF_predicted_rating'] \n",
        "                                  +NN_results['NN_predicted_rating'] \n",
        "                                  +Ensemble_DF['SVD_predicted_rating']\n",
        "                                  +Ensemble_DF['SVD_predicted_rating']) / 5.0\n",
        "\n",
        "df_result_ensemble = Ensemble_DF[['userId', 'movieId', 'Ensemble_Rating', 'rating']]\n",
        "df_result_ensemble.columns = ['userId', 'movieId', 'predicted_rating', 'rating']\n",
        "\n",
        "df_result_ensemble.head()"
      ],
      "execution_count": 20,
      "outputs": [
        {
          "output_type": "execute_result",
          "data": {
            "text/html": [
              "<div>\n",
              "<style scoped>\n",
              "    .dataframe tbody tr th:only-of-type {\n",
              "        vertical-align: middle;\n",
              "    }\n",
              "\n",
              "    .dataframe tbody tr th {\n",
              "        vertical-align: top;\n",
              "    }\n",
              "\n",
              "    .dataframe thead th {\n",
              "        text-align: right;\n",
              "    }\n",
              "</style>\n",
              "<table border=\"1\" class=\"dataframe\">\n",
              "  <thead>\n",
              "    <tr style=\"text-align: right;\">\n",
              "      <th></th>\n",
              "      <th>userId</th>\n",
              "      <th>movieId</th>\n",
              "      <th>predicted_rating</th>\n",
              "      <th>rating</th>\n",
              "    </tr>\n",
              "  </thead>\n",
              "  <tbody>\n",
              "    <tr>\n",
              "      <th>0</th>\n",
              "      <td>1</td>\n",
              "      <td>307</td>\n",
              "      <td>3.520495</td>\n",
              "      <td>3.5</td>\n",
              "    </tr>\n",
              "    <tr>\n",
              "      <th>1</th>\n",
              "      <td>1</td>\n",
              "      <td>1590</td>\n",
              "      <td>2.571295</td>\n",
              "      <td>2.5</td>\n",
              "    </tr>\n",
              "    <tr>\n",
              "      <th>2</th>\n",
              "      <td>1</td>\n",
              "      <td>3424</td>\n",
              "      <td>3.501139</td>\n",
              "      <td>4.5</td>\n",
              "    </tr>\n",
              "    <tr>\n",
              "      <th>3</th>\n",
              "      <td>2</td>\n",
              "      <td>170</td>\n",
              "      <td>3.061461</td>\n",
              "      <td>3.5</td>\n",
              "    </tr>\n",
              "    <tr>\n",
              "      <th>4</th>\n",
              "      <td>2</td>\n",
              "      <td>1296</td>\n",
              "      <td>3.886690</td>\n",
              "      <td>4.5</td>\n",
              "    </tr>\n",
              "  </tbody>\n",
              "</table>\n",
              "</div>"
            ],
            "text/plain": [
              "   userId  movieId  predicted_rating  rating\n",
              "0       1      307          3.520495     3.5\n",
              "1       1     1590          2.571295     2.5\n",
              "2       1     3424          3.501139     4.5\n",
              "3       2      170          3.061461     3.5\n",
              "4       2     1296          3.886690     4.5"
            ]
          },
          "metadata": {
            "tags": []
          },
          "execution_count": 20
        }
      ]
    },
    {
      "cell_type": "code",
      "metadata": {
        "id": "2w9M15HVswsQ"
      },
      "source": [
        "# save prediction to file\n",
        "\n",
        "df_result_ensemble.to_csv(\n",
        "    PROJECT_DIR + 'predictions/prediction_ensemble.csv', index=False)"
      ],
      "execution_count": 21,
      "outputs": []
    },
    {
      "cell_type": "code",
      "metadata": {
        "id": "rUdwuqsLxKer"
      },
      "source": [
        ""
      ],
      "execution_count": 21,
      "outputs": []
    }
  ]
}