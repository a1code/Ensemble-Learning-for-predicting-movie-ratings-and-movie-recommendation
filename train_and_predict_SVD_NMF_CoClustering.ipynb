{
  "nbformat": 4,
  "nbformat_minor": 0,
  "metadata": {
    "colab": {
      "name": "train_and_predict_SVD_NMF_CoClustering.ipynb",
      "provenance": [],
      "machine_shape": "hm"
    },
    "kernelspec": {
      "name": "python3",
      "display_name": "Python 3"
    }
  },
  "cells": [
    {
      "cell_type": "code",
      "metadata": {
        "id": "bP3h3CI4YLcC",
        "outputId": "9ce1cb1e-1fb8-4f7f-d1f1-5e69ff437be8",
        "colab": {
          "base_uri": "https://localhost:8080/",
          "height": 121
        }
      },
      "source": [
        "# install Surprise for this notebook\n",
        "\n",
        "!pip install surprise"
      ],
      "execution_count": 1,
      "outputs": [
        {
          "output_type": "stream",
          "text": [
            "Requirement already satisfied: surprise in /usr/local/lib/python3.6/dist-packages (0.1)\n",
            "Requirement already satisfied: scikit-surprise in /usr/local/lib/python3.6/dist-packages (from surprise) (1.1.1)\n",
            "Requirement already satisfied: scipy>=1.0.0 in /usr/local/lib/python3.6/dist-packages (from scikit-surprise->surprise) (1.4.1)\n",
            "Requirement already satisfied: numpy>=1.11.2 in /usr/local/lib/python3.6/dist-packages (from scikit-surprise->surprise) (1.18.5)\n",
            "Requirement already satisfied: six>=1.10.0 in /usr/local/lib/python3.6/dist-packages (from scikit-surprise->surprise) (1.15.0)\n",
            "Requirement already satisfied: joblib>=0.11 in /usr/local/lib/python3.6/dist-packages (from scikit-surprise->surprise) (0.16.0)\n"
          ],
          "name": "stdout"
        }
      ]
    },
    {
      "cell_type": "code",
      "metadata": {
        "id": "lseH4g8kYkYP"
      },
      "source": [
        "from surprise import Reader\n",
        "from surprise import Dataset\n",
        "from surprise import accuracy\n",
        "import pandas as pd\n",
        "import json\n",
        "\n",
        "from surprise import \\\n",
        "SVD, \\\n",
        "NMF, \\\n",
        "CoClustering"
      ],
      "execution_count": 2,
      "outputs": []
    },
    {
      "cell_type": "code",
      "metadata": {
        "id": "sI4J55TrtpIu",
        "outputId": "3a6980e2-b9d8-4761-c04b-c428efed12bb",
        "colab": {
          "base_uri": "https://localhost:8080/",
          "height": 34
        }
      },
      "source": [
        "from google.colab import drive\n",
        "drive.mount('/content/drive')"
      ],
      "execution_count": 3,
      "outputs": [
        {
          "output_type": "stream",
          "text": [
            "Drive already mounted at /content/drive; to attempt to forcibly remount, call drive.mount(\"/content/drive\", force_remount=True).\n"
          ],
          "name": "stdout"
        }
      ]
    },
    {
      "cell_type": "code",
      "metadata": {
        "id": "hPj30hT3trlP"
      },
      "source": [
        "PROJECT_DIR = \"/content/drive/My Drive/Project_EnsembleLearning/\""
      ],
      "execution_count": 4,
      "outputs": []
    },
    {
      "cell_type": "code",
      "metadata": {
        "id": "M7V_iUUKRljH",
        "outputId": "3b8ce4ee-06cc-42a8-b431-46ebd1accd66",
        "colab": {
          "base_uri": "https://localhost:8080/",
          "height": 206
        }
      },
      "source": [
        "# load training dataset\n",
        "\n",
        "df_train = pd.read_csv(PROJECT_DIR + 'dataset_split/training_set.csv')[['userId', 'movieId', 'rating']]\n",
        "\n",
        "df_train.head()"
      ],
      "execution_count": 5,
      "outputs": [
        {
          "output_type": "execute_result",
          "data": {
            "text/html": [
              "<div>\n",
              "<style scoped>\n",
              "    .dataframe tbody tr th:only-of-type {\n",
              "        vertical-align: middle;\n",
              "    }\n",
              "\n",
              "    .dataframe tbody tr th {\n",
              "        vertical-align: top;\n",
              "    }\n",
              "\n",
              "    .dataframe thead th {\n",
              "        text-align: right;\n",
              "    }\n",
              "</style>\n",
              "<table border=\"1\" class=\"dataframe\">\n",
              "  <thead>\n",
              "    <tr style=\"text-align: right;\">\n",
              "      <th></th>\n",
              "      <th>userId</th>\n",
              "      <th>movieId</th>\n",
              "      <th>rating</th>\n",
              "    </tr>\n",
              "  </thead>\n",
              "  <tbody>\n",
              "    <tr>\n",
              "      <th>0</th>\n",
              "      <td>1</td>\n",
              "      <td>481</td>\n",
              "      <td>3.5</td>\n",
              "    </tr>\n",
              "    <tr>\n",
              "      <th>1</th>\n",
              "      <td>1</td>\n",
              "      <td>1591</td>\n",
              "      <td>1.5</td>\n",
              "    </tr>\n",
              "    <tr>\n",
              "      <th>2</th>\n",
              "      <td>1</td>\n",
              "      <td>2478</td>\n",
              "      <td>4.0</td>\n",
              "    </tr>\n",
              "    <tr>\n",
              "      <th>3</th>\n",
              "      <td>1</td>\n",
              "      <td>2840</td>\n",
              "      <td>3.0</td>\n",
              "    </tr>\n",
              "    <tr>\n",
              "      <th>4</th>\n",
              "      <td>1</td>\n",
              "      <td>3698</td>\n",
              "      <td>3.5</td>\n",
              "    </tr>\n",
              "  </tbody>\n",
              "</table>\n",
              "</div>"
            ],
            "text/plain": [
              "   userId  movieId  rating\n",
              "0       1      481     3.5\n",
              "1       1     1591     1.5\n",
              "2       1     2478     4.0\n",
              "3       1     2840     3.0\n",
              "4       1     3698     3.5"
            ]
          },
          "metadata": {
            "tags": []
          },
          "execution_count": 5
        }
      ]
    },
    {
      "cell_type": "code",
      "metadata": {
        "id": "9JeH0ROLNmkm"
      },
      "source": [
        "reader = Reader(rating_scale=(1, 5))"
      ],
      "execution_count": 6,
      "outputs": []
    },
    {
      "cell_type": "code",
      "metadata": {
        "id": "BSKgTyZ9NtR0"
      },
      "source": [
        "trainset = Dataset.load_from_df(df_train, reader).build_full_trainset()"
      ],
      "execution_count": 7,
      "outputs": []
    },
    {
      "cell_type": "code",
      "metadata": {
        "id": "wMMmnVYaEuGM"
      },
      "source": [
        "# pick algorithm for training\n",
        "\n",
        "model_svd = SVD()\n",
        "model_nmf = NMF()\n",
        "model_cocluster = CoClustering()"
      ],
      "execution_count": 8,
      "outputs": []
    },
    {
      "cell_type": "code",
      "metadata": {
        "id": "L99ddY9vwrm-",
        "outputId": "9e8e9d1b-61c5-40aa-a7a5-9f5682b4f534",
        "colab": {
          "base_uri": "https://localhost:8080/",
          "height": 34
        }
      },
      "source": [
        "# training the models\n",
        "\n",
        "model_svd.fit(trainset)"
      ],
      "execution_count": 9,
      "outputs": [
        {
          "output_type": "execute_result",
          "data": {
            "text/plain": [
              "<surprise.prediction_algorithms.matrix_factorization.SVD at 0x7f989c2604a8>"
            ]
          },
          "metadata": {
            "tags": []
          },
          "execution_count": 9
        }
      ]
    },
    {
      "cell_type": "code",
      "metadata": {
        "id": "BB7tFhiPwylc",
        "outputId": "34ae9616-ae32-45b7-c632-0f56875ba967",
        "colab": {
          "base_uri": "https://localhost:8080/",
          "height": 34
        }
      },
      "source": [
        "model_nmf.fit(trainset)"
      ],
      "execution_count": 10,
      "outputs": [
        {
          "output_type": "execute_result",
          "data": {
            "text/plain": [
              "<surprise.prediction_algorithms.matrix_factorization.NMF at 0x7f989c260908>"
            ]
          },
          "metadata": {
            "tags": []
          },
          "execution_count": 10
        }
      ]
    },
    {
      "cell_type": "code",
      "metadata": {
        "id": "VuaRbfwPw2WJ",
        "outputId": "732844a5-dbc8-48df-e0d7-195df990f97d",
        "colab": {
          "base_uri": "https://localhost:8080/",
          "height": 34
        }
      },
      "source": [
        "model_cocluster.fit(trainset)"
      ],
      "execution_count": 11,
      "outputs": [
        {
          "output_type": "execute_result",
          "data": {
            "text/plain": [
              "<surprise.prediction_algorithms.co_clustering.CoClustering at 0x7f989c260c88>"
            ]
          },
          "metadata": {
            "tags": []
          },
          "execution_count": 11
        }
      ]
    },
    {
      "cell_type": "code",
      "metadata": {
        "id": "PXHgLfPDtwaa",
        "outputId": "a0564d9f-d5ab-40f4-8c70-3902bb3c5814",
        "colab": {
          "base_uri": "https://localhost:8080/",
          "height": 206
        }
      },
      "source": [
        "# load validation dataset\n",
        "\n",
        "df_validate = pd.read_csv(\n",
        "    PROJECT_DIR + 'dataset_split/validation_set.csv')[['userId', 'movieId', 'rating']]\n",
        "\n",
        "df_validate.head()"
      ],
      "execution_count": 12,
      "outputs": [
        {
          "output_type": "execute_result",
          "data": {
            "text/html": [
              "<div>\n",
              "<style scoped>\n",
              "    .dataframe tbody tr th:only-of-type {\n",
              "        vertical-align: middle;\n",
              "    }\n",
              "\n",
              "    .dataframe tbody tr th {\n",
              "        vertical-align: top;\n",
              "    }\n",
              "\n",
              "    .dataframe thead th {\n",
              "        text-align: right;\n",
              "    }\n",
              "</style>\n",
              "<table border=\"1\" class=\"dataframe\">\n",
              "  <thead>\n",
              "    <tr style=\"text-align: right;\">\n",
              "      <th></th>\n",
              "      <th>userId</th>\n",
              "      <th>movieId</th>\n",
              "      <th>rating</th>\n",
              "    </tr>\n",
              "  </thead>\n",
              "  <tbody>\n",
              "    <tr>\n",
              "      <th>0</th>\n",
              "      <td>1</td>\n",
              "      <td>307</td>\n",
              "      <td>3.5</td>\n",
              "    </tr>\n",
              "    <tr>\n",
              "      <th>1</th>\n",
              "      <td>1</td>\n",
              "      <td>1590</td>\n",
              "      <td>2.5</td>\n",
              "    </tr>\n",
              "    <tr>\n",
              "      <th>2</th>\n",
              "      <td>1</td>\n",
              "      <td>3424</td>\n",
              "      <td>4.5</td>\n",
              "    </tr>\n",
              "    <tr>\n",
              "      <th>3</th>\n",
              "      <td>2</td>\n",
              "      <td>170</td>\n",
              "      <td>3.5</td>\n",
              "    </tr>\n",
              "    <tr>\n",
              "      <th>4</th>\n",
              "      <td>2</td>\n",
              "      <td>1296</td>\n",
              "      <td>4.5</td>\n",
              "    </tr>\n",
              "  </tbody>\n",
              "</table>\n",
              "</div>"
            ],
            "text/plain": [
              "   userId  movieId  rating\n",
              "0       1      307     3.5\n",
              "1       1     1590     2.5\n",
              "2       1     3424     4.5\n",
              "3       2      170     3.5\n",
              "4       2     1296     4.5"
            ]
          },
          "metadata": {
            "tags": []
          },
          "execution_count": 12
        }
      ]
    },
    {
      "cell_type": "code",
      "metadata": {
        "id": "Ze_MJiH4NAd5"
      },
      "source": [
        "predicted_attributes_svd = []\n",
        "predicted_attributes_nmf = []\n",
        "predicted_attributes_cocluster = []\n",
        "\n",
        "# this function predicts ratings on the validation set using the trained model\n",
        "def get_predicted_ratings(x, algo):\n",
        "  prediction_list = []\n",
        "\n",
        "  if algo == \"SVD\":\n",
        "    model = model_svd\n",
        "  elif algo == \"NMF\":\n",
        "    model = model_nmf\n",
        "  elif algo == \"CoClustering\":\n",
        "    model = model_cocluster\n",
        "\n",
        "  prediction = model.predict(x[0], x[1])\n",
        "\n",
        "  prediction_list.append(int(prediction[0]))\n",
        "  prediction_list.append(int(prediction[1]))\n",
        "  prediction_list.append(prediction[3])\n",
        "\n",
        "  if algo == \"SVD\":\n",
        "    predicted_attributes_svd.append(prediction_list)\n",
        "  elif algo == \"NMF\":\n",
        "    predicted_attributes_nmf.append(prediction_list)\n",
        "  elif algo == \"CoClustering\":\n",
        "    predicted_attributes_cocluster.append(prediction_list)  "
      ],
      "execution_count": 13,
      "outputs": []
    },
    {
      "cell_type": "code",
      "metadata": {
        "id": "gAmiSNqsx7mK",
        "outputId": "35f669ee-3194-4149-dd30-32cae7aa26c5",
        "colab": {
          "base_uri": "https://localhost:8080/",
          "height": 206
        }
      },
      "source": [
        "# predict ratings for the validation set using the trained SVD model \n",
        "\n",
        "df_validate.apply(lambda x: get_predicted_ratings(x, \"SVD\"), axis=1)\n",
        "\n",
        "df_result_svd = pd.DataFrame.from_records(predicted_attributes_svd, \n",
        "                                      columns=['userId', 'movieId', 'predicted_rating'])\n",
        "df_result_svd['rating'] = df_validate['rating']\n",
        "\n",
        "df_result_svd.head()"
      ],
      "execution_count": 14,
      "outputs": [
        {
          "output_type": "execute_result",
          "data": {
            "text/html": [
              "<div>\n",
              "<style scoped>\n",
              "    .dataframe tbody tr th:only-of-type {\n",
              "        vertical-align: middle;\n",
              "    }\n",
              "\n",
              "    .dataframe tbody tr th {\n",
              "        vertical-align: top;\n",
              "    }\n",
              "\n",
              "    .dataframe thead th {\n",
              "        text-align: right;\n",
              "    }\n",
              "</style>\n",
              "<table border=\"1\" class=\"dataframe\">\n",
              "  <thead>\n",
              "    <tr style=\"text-align: right;\">\n",
              "      <th></th>\n",
              "      <th>userId</th>\n",
              "      <th>movieId</th>\n",
              "      <th>predicted_rating</th>\n",
              "      <th>rating</th>\n",
              "    </tr>\n",
              "  </thead>\n",
              "  <tbody>\n",
              "    <tr>\n",
              "      <th>0</th>\n",
              "      <td>1</td>\n",
              "      <td>307</td>\n",
              "      <td>4.048858</td>\n",
              "      <td>3.5</td>\n",
              "    </tr>\n",
              "    <tr>\n",
              "      <th>1</th>\n",
              "      <td>1</td>\n",
              "      <td>1590</td>\n",
              "      <td>3.039132</td>\n",
              "      <td>2.5</td>\n",
              "    </tr>\n",
              "    <tr>\n",
              "      <th>2</th>\n",
              "      <td>1</td>\n",
              "      <td>3424</td>\n",
              "      <td>3.895035</td>\n",
              "      <td>4.5</td>\n",
              "    </tr>\n",
              "    <tr>\n",
              "      <th>3</th>\n",
              "      <td>2</td>\n",
              "      <td>170</td>\n",
              "      <td>3.021717</td>\n",
              "      <td>3.5</td>\n",
              "    </tr>\n",
              "    <tr>\n",
              "      <th>4</th>\n",
              "      <td>2</td>\n",
              "      <td>1296</td>\n",
              "      <td>4.037089</td>\n",
              "      <td>4.5</td>\n",
              "    </tr>\n",
              "  </tbody>\n",
              "</table>\n",
              "</div>"
            ],
            "text/plain": [
              "   userId  movieId  predicted_rating  rating\n",
              "0       1      307          4.048858     3.5\n",
              "1       1     1590          3.039132     2.5\n",
              "2       1     3424          3.895035     4.5\n",
              "3       2      170          3.021717     3.5\n",
              "4       2     1296          4.037089     4.5"
            ]
          },
          "metadata": {
            "tags": []
          },
          "execution_count": 14
        }
      ]
    },
    {
      "cell_type": "code",
      "metadata": {
        "id": "Bh-KjTYY0mU7",
        "outputId": "b9963cb5-1d84-4820-89cb-eca4975d07af",
        "colab": {
          "base_uri": "https://localhost:8080/",
          "height": 206
        }
      },
      "source": [
        "# predict ratings for the validation set using the trained NMF model \n",
        "\n",
        "df_validate.apply(lambda x: get_predicted_ratings(x, \"NMF\"), axis=1)\n",
        "\n",
        "df_result_nmf = pd.DataFrame.from_records(predicted_attributes_nmf, \n",
        "                                      columns=['userId', 'movieId', 'predicted_rating'])\n",
        "df_result_nmf['rating'] = df_validate['rating']\n",
        "\n",
        "df_result_nmf.head()"
      ],
      "execution_count": 15,
      "outputs": [
        {
          "output_type": "execute_result",
          "data": {
            "text/html": [
              "<div>\n",
              "<style scoped>\n",
              "    .dataframe tbody tr th:only-of-type {\n",
              "        vertical-align: middle;\n",
              "    }\n",
              "\n",
              "    .dataframe tbody tr th {\n",
              "        vertical-align: top;\n",
              "    }\n",
              "\n",
              "    .dataframe thead th {\n",
              "        text-align: right;\n",
              "    }\n",
              "</style>\n",
              "<table border=\"1\" class=\"dataframe\">\n",
              "  <thead>\n",
              "    <tr style=\"text-align: right;\">\n",
              "      <th></th>\n",
              "      <th>userId</th>\n",
              "      <th>movieId</th>\n",
              "      <th>predicted_rating</th>\n",
              "      <th>rating</th>\n",
              "    </tr>\n",
              "  </thead>\n",
              "  <tbody>\n",
              "    <tr>\n",
              "      <th>0</th>\n",
              "      <td>1</td>\n",
              "      <td>307</td>\n",
              "      <td>3.717875</td>\n",
              "      <td>3.5</td>\n",
              "    </tr>\n",
              "    <tr>\n",
              "      <th>1</th>\n",
              "      <td>1</td>\n",
              "      <td>1590</td>\n",
              "      <td>3.014896</td>\n",
              "      <td>2.5</td>\n",
              "    </tr>\n",
              "    <tr>\n",
              "      <th>2</th>\n",
              "      <td>1</td>\n",
              "      <td>3424</td>\n",
              "      <td>4.330001</td>\n",
              "      <td>4.5</td>\n",
              "    </tr>\n",
              "    <tr>\n",
              "      <th>3</th>\n",
              "      <td>2</td>\n",
              "      <td>170</td>\n",
              "      <td>3.017285</td>\n",
              "      <td>3.5</td>\n",
              "    </tr>\n",
              "    <tr>\n",
              "      <th>4</th>\n",
              "      <td>2</td>\n",
              "      <td>1296</td>\n",
              "      <td>3.999259</td>\n",
              "      <td>4.5</td>\n",
              "    </tr>\n",
              "  </tbody>\n",
              "</table>\n",
              "</div>"
            ],
            "text/plain": [
              "   userId  movieId  predicted_rating  rating\n",
              "0       1      307          3.717875     3.5\n",
              "1       1     1590          3.014896     2.5\n",
              "2       1     3424          4.330001     4.5\n",
              "3       2      170          3.017285     3.5\n",
              "4       2     1296          3.999259     4.5"
            ]
          },
          "metadata": {
            "tags": []
          },
          "execution_count": 15
        }
      ]
    },
    {
      "cell_type": "code",
      "metadata": {
        "id": "7a1EVT5C0r0j",
        "outputId": "30630a50-70d0-4241-890c-7e1076192e56",
        "colab": {
          "base_uri": "https://localhost:8080/",
          "height": 206
        }
      },
      "source": [
        "# predict ratings for the validation set using the trained CoClustering model \n",
        "\n",
        "df_validate.apply(lambda x: get_predicted_ratings(x, \"CoClustering\"), axis=1)\n",
        "\n",
        "df_result_cocluster = pd.DataFrame.from_records(predicted_attributes_cocluster, \n",
        "                                      columns=['userId', 'movieId', 'predicted_rating'])\n",
        "df_result_cocluster['rating'] = df_validate['rating']\n",
        "\n",
        "df_result_cocluster.head()"
      ],
      "execution_count": 16,
      "outputs": [
        {
          "output_type": "execute_result",
          "data": {
            "text/html": [
              "<div>\n",
              "<style scoped>\n",
              "    .dataframe tbody tr th:only-of-type {\n",
              "        vertical-align: middle;\n",
              "    }\n",
              "\n",
              "    .dataframe tbody tr th {\n",
              "        vertical-align: top;\n",
              "    }\n",
              "\n",
              "    .dataframe thead th {\n",
              "        text-align: right;\n",
              "    }\n",
              "</style>\n",
              "<table border=\"1\" class=\"dataframe\">\n",
              "  <thead>\n",
              "    <tr style=\"text-align: right;\">\n",
              "      <th></th>\n",
              "      <th>userId</th>\n",
              "      <th>movieId</th>\n",
              "      <th>predicted_rating</th>\n",
              "      <th>rating</th>\n",
              "    </tr>\n",
              "  </thead>\n",
              "  <tbody>\n",
              "    <tr>\n",
              "      <th>0</th>\n",
              "      <td>1</td>\n",
              "      <td>307</td>\n",
              "      <td>3.333259</td>\n",
              "      <td>3.5</td>\n",
              "    </tr>\n",
              "    <tr>\n",
              "      <th>1</th>\n",
              "      <td>1</td>\n",
              "      <td>1590</td>\n",
              "      <td>2.476887</td>\n",
              "      <td>2.5</td>\n",
              "    </tr>\n",
              "    <tr>\n",
              "      <th>2</th>\n",
              "      <td>1</td>\n",
              "      <td>3424</td>\n",
              "      <td>2.994355</td>\n",
              "      <td>4.5</td>\n",
              "    </tr>\n",
              "    <tr>\n",
              "      <th>3</th>\n",
              "      <td>2</td>\n",
              "      <td>170</td>\n",
              "      <td>3.161215</td>\n",
              "      <td>3.5</td>\n",
              "    </tr>\n",
              "    <tr>\n",
              "      <th>4</th>\n",
              "      <td>2</td>\n",
              "      <td>1296</td>\n",
              "      <td>3.709965</td>\n",
              "      <td>4.5</td>\n",
              "    </tr>\n",
              "  </tbody>\n",
              "</table>\n",
              "</div>"
            ],
            "text/plain": [
              "   userId  movieId  predicted_rating  rating\n",
              "0       1      307          3.333259     3.5\n",
              "1       1     1590          2.476887     2.5\n",
              "2       1     3424          2.994355     4.5\n",
              "3       2      170          3.161215     3.5\n",
              "4       2     1296          3.709965     4.5"
            ]
          },
          "metadata": {
            "tags": []
          },
          "execution_count": 16
        }
      ]
    },
    {
      "cell_type": "code",
      "metadata": {
        "id": "W1jlx0fAgsJC"
      },
      "source": [
        "# save predictions to file\n",
        "\n",
        "df_result_svd.to_csv(\n",
        "    PROJECT_DIR + 'predictions/prediction_svd.csv', index=False)\n",
        "\n",
        "df_result_nmf.to_csv(\n",
        "    PROJECT_DIR + 'predictions/prediction_nmf.csv', index=False)\n",
        "\n",
        "df_result_cocluster.to_csv(\n",
        "    PROJECT_DIR + 'predictions/prediction_cocluster.csv', index=False)"
      ],
      "execution_count": 17,
      "outputs": []
    },
    {
      "cell_type": "code",
      "metadata": {
        "id": "SNVWFY9RNzqP"
      },
      "source": [
        ""
      ],
      "execution_count": 17,
      "outputs": []
    }
  ]
}