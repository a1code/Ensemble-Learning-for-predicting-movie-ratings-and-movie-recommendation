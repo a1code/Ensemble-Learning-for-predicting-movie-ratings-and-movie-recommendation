{
  "nbformat": 4,
  "nbformat_minor": 0,
  "metadata": {
    "colab": {
      "name": "recommendation_and_evaluation_SVD.ipynb",
      "provenance": []
    },
    "kernelspec": {
      "name": "python3",
      "display_name": "Python 3"
    }
  },
  "cells": [
    {
      "cell_type": "code",
      "metadata": {
        "id": "px82WRm3A1fy",
        "outputId": "a1199703-ef25-4df5-ba3f-fb63f81844f3",
        "colab": {
          "base_uri": "https://localhost:8080/",
          "height": 54
        }
      },
      "source": [
        "from google.colab import drive\n",
        "drive.mount('/content/drive')"
      ],
      "execution_count": 1,
      "outputs": [
        {
          "output_type": "stream",
          "text": [
            "Drive already mounted at /content/drive; to attempt to forcibly remount, call drive.mount(\"/content/drive\", force_remount=True).\n"
          ],
          "name": "stdout"
        }
      ]
    },
    {
      "cell_type": "code",
      "metadata": {
        "id": "hI32GuB8A5gZ"
      },
      "source": [
        "PROJECT_DIR = \"/content/drive/My Drive/Project_EnsembleLearning/\""
      ],
      "execution_count": 2,
      "outputs": []
    },
    {
      "cell_type": "code",
      "metadata": {
        "id": "iPV4YdxT06NP"
      },
      "source": [
        "import pandas as pd"
      ],
      "execution_count": 3,
      "outputs": []
    },
    {
      "cell_type": "code",
      "metadata": {
        "id": "to0akDHx1A3g"
      },
      "source": [
        "# model output\n",
        "\n",
        "df_prediction = pd.read_csv(PROJECT_DIR + 'predictions/prediction_svd.csv')"
      ],
      "execution_count": 4,
      "outputs": []
    },
    {
      "cell_type": "code",
      "metadata": {
        "id": "-HrrThnp12H6"
      },
      "source": [
        "# all movie ids vs titles\n",
        "\n",
        "df_movies = \\\n",
        "  pd.read_csv(PROJECT_DIR + 'dataset_full/movies.csv', usecols=[0,1], names=['movieId', 'title'])\n",
        "\n",
        "all_movies_dict = \\\n",
        "  pd.Series(df_movies['title'].values,index=df_movies['movieId']).to_dict()"
      ],
      "execution_count": 5,
      "outputs": []
    },
    {
      "cell_type": "markdown",
      "metadata": {
        "id": "CfzqStOjB1iG"
      },
      "source": [
        "**SVD recommendation and evaluation**"
      ]
    },
    {
      "cell_type": "code",
      "metadata": {
        "id": "qppDSut9JnFQ",
        "outputId": "db2a7c0a-0202-45b2-ac34-cfe7a6b74276",
        "colab": {
          "base_uri": "https://localhost:8080/",
          "height": 206
        }
      },
      "source": [
        "df_prediction.head()"
      ],
      "execution_count": 6,
      "outputs": [
        {
          "output_type": "execute_result",
          "data": {
            "text/html": [
              "<div>\n",
              "<style scoped>\n",
              "    .dataframe tbody tr th:only-of-type {\n",
              "        vertical-align: middle;\n",
              "    }\n",
              "\n",
              "    .dataframe tbody tr th {\n",
              "        vertical-align: top;\n",
              "    }\n",
              "\n",
              "    .dataframe thead th {\n",
              "        text-align: right;\n",
              "    }\n",
              "</style>\n",
              "<table border=\"1\" class=\"dataframe\">\n",
              "  <thead>\n",
              "    <tr style=\"text-align: right;\">\n",
              "      <th></th>\n",
              "      <th>userId</th>\n",
              "      <th>movieId</th>\n",
              "      <th>predicted_rating</th>\n",
              "      <th>rating</th>\n",
              "    </tr>\n",
              "  </thead>\n",
              "  <tbody>\n",
              "    <tr>\n",
              "      <th>0</th>\n",
              "      <td>1</td>\n",
              "      <td>307</td>\n",
              "      <td>4.048858</td>\n",
              "      <td>3.5</td>\n",
              "    </tr>\n",
              "    <tr>\n",
              "      <th>1</th>\n",
              "      <td>1</td>\n",
              "      <td>1590</td>\n",
              "      <td>3.039132</td>\n",
              "      <td>2.5</td>\n",
              "    </tr>\n",
              "    <tr>\n",
              "      <th>2</th>\n",
              "      <td>1</td>\n",
              "      <td>3424</td>\n",
              "      <td>3.895035</td>\n",
              "      <td>4.5</td>\n",
              "    </tr>\n",
              "    <tr>\n",
              "      <th>3</th>\n",
              "      <td>2</td>\n",
              "      <td>170</td>\n",
              "      <td>3.021717</td>\n",
              "      <td>3.5</td>\n",
              "    </tr>\n",
              "    <tr>\n",
              "      <th>4</th>\n",
              "      <td>2</td>\n",
              "      <td>1296</td>\n",
              "      <td>4.037089</td>\n",
              "      <td>4.5</td>\n",
              "    </tr>\n",
              "  </tbody>\n",
              "</table>\n",
              "</div>"
            ],
            "text/plain": [
              "   userId  movieId  predicted_rating  rating\n",
              "0       1      307          4.048858     3.5\n",
              "1       1     1590          3.039132     2.5\n",
              "2       1     3424          3.895035     4.5\n",
              "3       2      170          3.021717     3.5\n",
              "4       2     1296          4.037089     4.5"
            ]
          },
          "metadata": {
            "tags": []
          },
          "execution_count": 6
        }
      ]
    },
    {
      "cell_type": "code",
      "metadata": {
        "id": "fAwC_Yo613rn"
      },
      "source": [
        "# all users in the validation set \n",
        "\n",
        "all_users = df_prediction['userId'].unique().tolist()"
      ],
      "execution_count": 7,
      "outputs": []
    },
    {
      "cell_type": "code",
      "metadata": {
        "id": "phdUiM3418bx"
      },
      "source": [
        "# recommendations as per \"predicted ratings\" in the validation set \n",
        "\n",
        "df_prediction1 = df_prediction[['userId', 'movieId', 'predicted_rating']]\n",
        "df_prediction1['predicted_movies'] = df_prediction1 \\\n",
        "  .apply(lambda x: (x['movieId'], x['predicted_rating']), axis=1)\n",
        "\n",
        "df_prediction2 = df_prediction1[['userId', 'predicted_movies']]\n",
        "\n",
        "df_prediction_formatted = df_prediction2 \\\n",
        "  .groupby('userId')['predicted_movies'].apply(list).reset_index(name='recommendation')\n",
        "\n",
        "df_prediction_sorted = df_prediction_formatted\n",
        "\n",
        "df_prediction_sorted['recommendation'] = \\\n",
        "  df_prediction_sorted['recommendation'].apply( \\\n",
        "    lambda x: sorted(x, key=lambda tup: tup[1], reverse=True))\n",
        "\n",
        "df_prediction_sorted.head()\n",
        "\n",
        "sorted_reco_by_userid = pd.Series( \\\n",
        "  df_prediction_sorted['recommendation'].values,index=df_prediction_sorted['userId']).to_dict()"
      ],
      "execution_count": 8,
      "outputs": []
    },
    {
      "cell_type": "code",
      "metadata": {
        "id": "LXzeaO7c2Ve5"
      },
      "source": [
        "# this function returns top N recommendations for a given user\n",
        "# based on the predicted ratings, N = 10 by default\n",
        "\n",
        "def get_top_n_recommendations(user, N=10):\n",
        "  top_n_reco = sorted_reco_by_userid[user][:N]\n",
        "  \n",
        "  return [all_movies_dict[str(int(x[0]))] for x in top_n_reco]"
      ],
      "execution_count": 9,
      "outputs": []
    },
    {
      "cell_type": "code",
      "metadata": {
        "id": "iKO3XC_x2x5t"
      },
      "source": [
        "# recommendations as per \"true ratings\" in the validation set\n",
        "\n",
        "df_true1 = df_prediction[['userId', 'movieId', 'rating']]\n",
        "df_true1['movies'] = df_true1 \\\n",
        "  .apply(lambda x: (x['movieId'], x['rating']), axis=1)\n",
        "\n",
        "df_true2 = df_true1[['userId', 'movies']]\n",
        "\n",
        "df_true_formatted = df_true2 \\\n",
        "  .groupby('userId')['movies'].apply(list).reset_index(name='recommendation')\n",
        "\n",
        "df_true_sorted = df_true_formatted\n",
        "\n",
        "df_true_sorted['recommendation'] = \\\n",
        "  df_true_sorted['recommendation'].apply( \\\n",
        "    lambda x: sorted(x, key=lambda tup: tup[1], reverse=True))\n",
        "\n",
        "df_true_sorted.head()\n",
        "\n",
        "sorted_true_ratings_by_userid = pd.Series( \\\n",
        "  df_true_sorted['recommendation'].values,index=df_true_sorted['userId']).to_dict()"
      ],
      "execution_count": 10,
      "outputs": []
    },
    {
      "cell_type": "code",
      "metadata": {
        "id": "R-XP065g3Vd_"
      },
      "source": [
        "# this function returns top N recommendations for a given user\n",
        "# based on the true ratings, N = 10 by default\n",
        "\n",
        "def get_top_n_true_ratings(user, N=10):\n",
        "  top_n_true_ratings = sorted_true_ratings_by_userid[user][:N]\n",
        "  \n",
        "  return [all_movies_dict[str(int(x[0]))] for x in top_n_true_ratings]"
      ],
      "execution_count": 11,
      "outputs": []
    },
    {
      "cell_type": "code",
      "metadata": {
        "id": "ecAppbC233ZE"
      },
      "source": [
        "# get recommendation for each user in the validation set\n",
        "\n",
        "top_n_recommendations_by_user = {}\n",
        "\n",
        "user_out = []\n",
        "for user in all_users:\n",
        "  out = []\n",
        "\n",
        "  # user\n",
        "  out.append(user)\n",
        "\n",
        "  # top N recommendations (n = 10 by default)\n",
        "  top_n_reco_for_user = get_top_n_recommendations(user)\n",
        "  top_n_recommendations_by_user[user] = top_n_reco_for_user\n",
        "\n",
        "  top_n_true_ratings_for_user = get_top_n_true_ratings(user)\n",
        "  true_positives = list(set(top_n_reco_for_user) & set(top_n_true_ratings_for_user))\n",
        "  false_positives = list(set(top_n_reco_for_user) - set(top_n_true_ratings_for_user))\n",
        "  false_negatives = list(set(top_n_true_ratings_for_user) - set(top_n_reco_for_user))\n",
        "\n",
        "  # Compute precision for this user\n",
        "  precision_for_user = len(true_positives) / float(len(true_positives) + len(false_positives))\n",
        "  out.append(precision_for_user)\n",
        "\n",
        "  # Compute recall for this user\n",
        "  recall_for_user = len(true_positives) / float(len(true_positives) + len(false_negatives))\n",
        "  out.append(recall_for_user)\n",
        "  \n",
        "  user_out.append(out)"
      ],
      "execution_count": 12,
      "outputs": []
    },
    {
      "cell_type": "code",
      "metadata": {
        "id": "P9hh3vzT7bwp",
        "outputId": "77369a27-abd5-4bcb-e1fb-7e2cf227455a",
        "colab": {
          "base_uri": "https://localhost:8080/",
          "height": 424
        }
      },
      "source": [
        "# Recommendation evaluation for all users in the validation set\n",
        "\n",
        "df_out = pd.DataFrame(user_out, columns=['userId', 'precision_user', 'recall_user'])\n",
        "df_out"
      ],
      "execution_count": 13,
      "outputs": [
        {
          "output_type": "execute_result",
          "data": {
            "text/html": [
              "<div>\n",
              "<style scoped>\n",
              "    .dataframe tbody tr th:only-of-type {\n",
              "        vertical-align: middle;\n",
              "    }\n",
              "\n",
              "    .dataframe tbody tr th {\n",
              "        vertical-align: top;\n",
              "    }\n",
              "\n",
              "    .dataframe thead th {\n",
              "        text-align: right;\n",
              "    }\n",
              "</style>\n",
              "<table border=\"1\" class=\"dataframe\">\n",
              "  <thead>\n",
              "    <tr style=\"text-align: right;\">\n",
              "      <th></th>\n",
              "      <th>userId</th>\n",
              "      <th>precision_user</th>\n",
              "      <th>recall_user</th>\n",
              "    </tr>\n",
              "  </thead>\n",
              "  <tbody>\n",
              "    <tr>\n",
              "      <th>0</th>\n",
              "      <td>1</td>\n",
              "      <td>1.0</td>\n",
              "      <td>1.0</td>\n",
              "    </tr>\n",
              "    <tr>\n",
              "      <th>1</th>\n",
              "      <td>2</td>\n",
              "      <td>1.0</td>\n",
              "      <td>1.0</td>\n",
              "    </tr>\n",
              "    <tr>\n",
              "      <th>2</th>\n",
              "      <td>3</td>\n",
              "      <td>1.0</td>\n",
              "      <td>1.0</td>\n",
              "    </tr>\n",
              "    <tr>\n",
              "      <th>3</th>\n",
              "      <td>4</td>\n",
              "      <td>0.2</td>\n",
              "      <td>0.2</td>\n",
              "    </tr>\n",
              "    <tr>\n",
              "      <th>4</th>\n",
              "      <td>5</td>\n",
              "      <td>0.7</td>\n",
              "      <td>0.7</td>\n",
              "    </tr>\n",
              "    <tr>\n",
              "      <th>...</th>\n",
              "      <td>...</td>\n",
              "      <td>...</td>\n",
              "      <td>...</td>\n",
              "    </tr>\n",
              "    <tr>\n",
              "      <th>11408</th>\n",
              "      <td>11815</td>\n",
              "      <td>1.0</td>\n",
              "      <td>1.0</td>\n",
              "    </tr>\n",
              "    <tr>\n",
              "      <th>11409</th>\n",
              "      <td>11816</td>\n",
              "      <td>1.0</td>\n",
              "      <td>1.0</td>\n",
              "    </tr>\n",
              "    <tr>\n",
              "      <th>11410</th>\n",
              "      <td>11817</td>\n",
              "      <td>1.0</td>\n",
              "      <td>1.0</td>\n",
              "    </tr>\n",
              "    <tr>\n",
              "      <th>11411</th>\n",
              "      <td>11818</td>\n",
              "      <td>0.8</td>\n",
              "      <td>0.8</td>\n",
              "    </tr>\n",
              "    <tr>\n",
              "      <th>11412</th>\n",
              "      <td>11819</td>\n",
              "      <td>0.5</td>\n",
              "      <td>0.5</td>\n",
              "    </tr>\n",
              "  </tbody>\n",
              "</table>\n",
              "<p>11413 rows × 3 columns</p>\n",
              "</div>"
            ],
            "text/plain": [
              "       userId  precision_user  recall_user\n",
              "0           1             1.0          1.0\n",
              "1           2             1.0          1.0\n",
              "2           3             1.0          1.0\n",
              "3           4             0.2          0.2\n",
              "4           5             0.7          0.7\n",
              "...       ...             ...          ...\n",
              "11408   11815             1.0          1.0\n",
              "11409   11816             1.0          1.0\n",
              "11410   11817             1.0          1.0\n",
              "11411   11818             0.8          0.8\n",
              "11412   11819             0.5          0.5\n",
              "\n",
              "[11413 rows x 3 columns]"
            ]
          },
          "metadata": {
            "tags": []
          },
          "execution_count": 13
        }
      ]
    },
    {
      "cell_type": "code",
      "metadata": {
        "id": "1lyYkylC7f1r",
        "outputId": "9bae5d71-8e58-428e-b216-d0fff26426c8",
        "colab": {
          "base_uri": "https://localhost:8080/",
          "height": 69
        }
      },
      "source": [
        "# top N recommendations for a user example\n",
        "\n",
        "top_n_recommendations_by_user[7]"
      ],
      "execution_count": 14,
      "outputs": [
        {
          "output_type": "execute_result",
          "data": {
            "text/plain": [
              "[\"Rosemary's Baby (1968)\",\n",
              " 'About Schmidt (2002)',\n",
              " 'When a Man Loves a Woman (1994)']"
            ]
          },
          "metadata": {
            "tags": []
          },
          "execution_count": 14
        }
      ]
    },
    {
      "cell_type": "code",
      "metadata": {
        "id": "6s4tQp2p7ixG",
        "outputId": "fd7fa3b5-a1a8-449e-db80-523202fd271f",
        "colab": {
          "base_uri": "https://localhost:8080/",
          "height": 104
        }
      },
      "source": [
        "# EVALUATION\n",
        "\n",
        "# mae\n",
        "from sklearn.metrics import mean_absolute_error\n",
        "mae = mean_absolute_error(df_prediction['rating'], df_prediction['predicted_rating'])\n",
        "print('mae', mae)\n",
        "\n",
        "# rmse\n",
        "from sklearn.metrics import mean_squared_error\n",
        "from math import sqrt\n",
        "rmse = sqrt(mean_squared_error(df_prediction['rating'], df_prediction['predicted_rating']))\n",
        "print('rmse', rmse)\n",
        "\n",
        "# precision\n",
        "precision = df_out['precision_user'].mean()\n",
        "print('avg precision', precision)\n",
        "\n",
        "# recall\n",
        "recall = df_out['recall_user'].mean()\n",
        "print('avg recall', recall)\n",
        "\n",
        "# f measure\n",
        "f_measure = (2.0 * precision * recall) / (precision + recall)\n",
        "print('f measure', f_measure)"
      ],
      "execution_count": 15,
      "outputs": [
        {
          "output_type": "stream",
          "text": [
            "mae 0.647094900182675\n",
            "rmse 0.8483967416760406\n",
            "avg precision 0.8315254534302976\n",
            "avg recall 0.8315254534302976\n",
            "f measure 0.8315254534302976\n"
          ],
          "name": "stdout"
        }
      ]
    }
  ]
}