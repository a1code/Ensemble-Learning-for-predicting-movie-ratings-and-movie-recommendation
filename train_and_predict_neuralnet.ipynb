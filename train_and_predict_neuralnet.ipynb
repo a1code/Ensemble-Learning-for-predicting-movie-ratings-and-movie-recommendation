{
  "nbformat": 4,
  "nbformat_minor": 0,
  "metadata": {
    "colab": {
      "name": "train_and_predict_neuralnet.ipynb",
      "provenance": [],
      "machine_shape": "hm"
    },
    "kernelspec": {
      "name": "python3",
      "display_name": "Python 3"
    },
    "accelerator": "GPU"
  },
  "cells": [
    {
      "cell_type": "code",
      "metadata": {
        "id": "j4lyojwDO3-A",
        "outputId": "0d546f3c-21aa-460a-9fd1-cd60f77f3e2b",
        "colab": {
          "base_uri": "https://localhost:8080/",
          "height": 34
        }
      },
      "source": [
        "from google.colab import drive\n",
        "drive.mount('/content/drive')"
      ],
      "execution_count": null,
      "outputs": [
        {
          "output_type": "stream",
          "text": [
            "Drive already mounted at /content/drive; to attempt to forcibly remount, call drive.mount(\"/content/drive\", force_remount=True).\n"
          ],
          "name": "stdout"
        }
      ]
    },
    {
      "cell_type": "code",
      "metadata": {
        "id": "R9SM6oEyO7R3"
      },
      "source": [
        "PROJECT_DIR = \"/content/drive/My Drive/Project_EnsembleLearning/\""
      ],
      "execution_count": null,
      "outputs": []
    },
    {
      "cell_type": "code",
      "metadata": {
        "id": "6Nesy4LoO7lR"
      },
      "source": [
        "import pandas as pd"
      ],
      "execution_count": null,
      "outputs": []
    },
    {
      "cell_type": "code",
      "metadata": {
        "id": "YC_cy7f2epiG",
        "outputId": "6bcbca4e-912f-4935-ff54-8240f5b49fe1",
        "colab": {
          "base_uri": "https://localhost:8080/",
          "height": 206
        }
      },
      "source": [
        "# load full data\n",
        "\n",
        "data_df = pd.read_csv(PROJECT_DIR + \"dataset_full/ratings.csv\")\n",
        "data_df.head()"
      ],
      "execution_count": null,
      "outputs": [
        {
          "output_type": "execute_result",
          "data": {
            "text/html": [
              "<div>\n",
              "<style scoped>\n",
              "    .dataframe tbody tr th:only-of-type {\n",
              "        vertical-align: middle;\n",
              "    }\n",
              "\n",
              "    .dataframe tbody tr th {\n",
              "        vertical-align: top;\n",
              "    }\n",
              "\n",
              "    .dataframe thead th {\n",
              "        text-align: right;\n",
              "    }\n",
              "</style>\n",
              "<table border=\"1\" class=\"dataframe\">\n",
              "  <thead>\n",
              "    <tr style=\"text-align: right;\">\n",
              "      <th></th>\n",
              "      <th>userId</th>\n",
              "      <th>movieId</th>\n",
              "      <th>rating</th>\n",
              "      <th>timestamp</th>\n",
              "    </tr>\n",
              "  </thead>\n",
              "  <tbody>\n",
              "    <tr>\n",
              "      <th>0</th>\n",
              "      <td>1</td>\n",
              "      <td>307</td>\n",
              "      <td>3.5</td>\n",
              "      <td>1256677221</td>\n",
              "    </tr>\n",
              "    <tr>\n",
              "      <th>1</th>\n",
              "      <td>1</td>\n",
              "      <td>481</td>\n",
              "      <td>3.5</td>\n",
              "      <td>1256677456</td>\n",
              "    </tr>\n",
              "    <tr>\n",
              "      <th>2</th>\n",
              "      <td>1</td>\n",
              "      <td>1091</td>\n",
              "      <td>1.5</td>\n",
              "      <td>1256677471</td>\n",
              "    </tr>\n",
              "    <tr>\n",
              "      <th>3</th>\n",
              "      <td>1</td>\n",
              "      <td>1257</td>\n",
              "      <td>4.5</td>\n",
              "      <td>1256677460</td>\n",
              "    </tr>\n",
              "    <tr>\n",
              "      <th>4</th>\n",
              "      <td>1</td>\n",
              "      <td>1449</td>\n",
              "      <td>4.5</td>\n",
              "      <td>1256677264</td>\n",
              "    </tr>\n",
              "  </tbody>\n",
              "</table>\n",
              "</div>"
            ],
            "text/plain": [
              "   userId  movieId  rating   timestamp\n",
              "0       1      307     3.5  1256677221\n",
              "1       1      481     3.5  1256677456\n",
              "2       1     1091     1.5  1256677471\n",
              "3       1     1257     4.5  1256677460\n",
              "4       1     1449     4.5  1256677264"
            ]
          },
          "metadata": {
            "tags": []
          },
          "execution_count": 4
        }
      ]
    },
    {
      "cell_type": "code",
      "metadata": {
        "id": "E45cWDO8eqRZ",
        "outputId": "d1455452-3f58-429d-db8f-c49fff7ec365",
        "colab": {
          "base_uri": "https://localhost:8080/",
          "height": 206
        }
      },
      "source": [
        "data_df['movieIdCat'] = data_df.movieId.astype('category').cat.codes.values\n",
        "data_df['userIdCat'] = data_df.userId.astype('category').cat.codes.values\n",
        "data_df.head()"
      ],
      "execution_count": null,
      "outputs": [
        {
          "output_type": "execute_result",
          "data": {
            "text/html": [
              "<div>\n",
              "<style scoped>\n",
              "    .dataframe tbody tr th:only-of-type {\n",
              "        vertical-align: middle;\n",
              "    }\n",
              "\n",
              "    .dataframe tbody tr th {\n",
              "        vertical-align: top;\n",
              "    }\n",
              "\n",
              "    .dataframe thead th {\n",
              "        text-align: right;\n",
              "    }\n",
              "</style>\n",
              "<table border=\"1\" class=\"dataframe\">\n",
              "  <thead>\n",
              "    <tr style=\"text-align: right;\">\n",
              "      <th></th>\n",
              "      <th>userId</th>\n",
              "      <th>movieId</th>\n",
              "      <th>rating</th>\n",
              "      <th>timestamp</th>\n",
              "      <th>movieIdCat</th>\n",
              "      <th>userIdCat</th>\n",
              "    </tr>\n",
              "  </thead>\n",
              "  <tbody>\n",
              "    <tr>\n",
              "      <th>0</th>\n",
              "      <td>1</td>\n",
              "      <td>307</td>\n",
              "      <td>3.5</td>\n",
              "      <td>1256677221</td>\n",
              "      <td>302</td>\n",
              "      <td>0</td>\n",
              "    </tr>\n",
              "    <tr>\n",
              "      <th>1</th>\n",
              "      <td>1</td>\n",
              "      <td>481</td>\n",
              "      <td>3.5</td>\n",
              "      <td>1256677456</td>\n",
              "      <td>474</td>\n",
              "      <td>0</td>\n",
              "    </tr>\n",
              "    <tr>\n",
              "      <th>2</th>\n",
              "      <td>1</td>\n",
              "      <td>1091</td>\n",
              "      <td>1.5</td>\n",
              "      <td>1256677471</td>\n",
              "      <td>1042</td>\n",
              "      <td>0</td>\n",
              "    </tr>\n",
              "    <tr>\n",
              "      <th>3</th>\n",
              "      <td>1</td>\n",
              "      <td>1257</td>\n",
              "      <td>4.5</td>\n",
              "      <td>1256677460</td>\n",
              "      <td>1193</td>\n",
              "      <td>0</td>\n",
              "    </tr>\n",
              "    <tr>\n",
              "      <th>4</th>\n",
              "      <td>1</td>\n",
              "      <td>1449</td>\n",
              "      <td>4.5</td>\n",
              "      <td>1256677264</td>\n",
              "      <td>1377</td>\n",
              "      <td>0</td>\n",
              "    </tr>\n",
              "  </tbody>\n",
              "</table>\n",
              "</div>"
            ],
            "text/plain": [
              "   userId  movieId  rating   timestamp  movieIdCat  userIdCat\n",
              "0       1      307     3.5  1256677221         302          0\n",
              "1       1      481     3.5  1256677456         474          0\n",
              "2       1     1091     1.5  1256677471        1042          0\n",
              "3       1     1257     4.5  1256677460        1193          0\n",
              "4       1     1449     4.5  1256677264        1377          0"
            ]
          },
          "metadata": {
            "tags": []
          },
          "execution_count": 5
        }
      ]
    },
    {
      "cell_type": "code",
      "metadata": {
        "id": "_4Tnuh2B0uxY"
      },
      "source": [
        "import keras\n",
        "from IPython.display import SVG\n",
        "from keras.optimizers import Adam\n",
        "from keras.utils.vis_utils import model_to_dot\n",
        "\n",
        "n_users, n_movies = len(data_df.userIdCat.unique()), len(data_df.movieIdCat.unique())\n",
        "n_latent_factors = 3"
      ],
      "execution_count": null,
      "outputs": []
    },
    {
      "cell_type": "code",
      "metadata": {
        "id": "jL-ps5YH0us5"
      },
      "source": [
        "# neural network setup\n",
        "\n",
        "n_latent_factors_user = 5\n",
        "n_latent_factors_movie = 8\n",
        "\n",
        "movie_input = keras.layers.Input(shape=[1],name='Movie')\n",
        "movie_embedding = keras.layers.Embedding(n_movies + 1, n_latent_factors_movie, name='Movie-Embedding')(movie_input)\n",
        "movie_vec = keras.layers.Flatten(name='FlattenMovies')(movie_embedding)\n",
        "movie_vec = keras.layers.Dropout(0.2,name='Dropout-1')(movie_vec)\n",
        "\n",
        "\n",
        "user_input = keras.layers.Input(shape=[1],name='User')\n",
        "user_vec = keras.layers.Flatten(name='FlattenUsers')(keras.layers.Embedding(n_users + 1, n_latent_factors_user,name='User-Embedding')(user_input))\n",
        "user_vec = keras.layers.Dropout(0.2,name='Dropout-2')(user_vec)\n",
        "\n",
        "\n",
        "concat = keras.layers.concatenate([movie_vec, user_vec], axis=-1)\n",
        "concat_dropout = keras.layers.Dropout(0.2,name='Dropout-3')(concat)\n",
        "dense = keras.layers.Dense(200,name='FullyConnected')(concat)\n",
        "dropout_1 = keras.layers.Dropout(0.2,name='Dropout-4')(dense)\n",
        "dense_2 = keras.layers.Dense(100,name='FullyConnected-1')(concat)\n",
        "dropout_2 = keras.layers.Dropout(0.2,name='Dropout-5')(dense_2)\n",
        "dense_3 = keras.layers.Dense(50,name='FullyConnected-2')(dense_2)\n",
        "dense_4 = keras.layers.Dense(20,name='FullyConnected-3', activation='relu')(dense_3)\n",
        "\n",
        "\n",
        "result = keras.layers.Dense(1, activation='relu',name='Activation')(dense_4)\n",
        "adam = Adam(lr=0.001)\n",
        "model = keras.Model([user_input, movie_input], result)\n",
        "model.compile(optimizer=adam,loss= 'mean_absolute_error')"
      ],
      "execution_count": null,
      "outputs": []
    },
    {
      "cell_type": "code",
      "metadata": {
        "id": "m6zHow__0uqG",
        "outputId": "17a9bffa-61e4-4a88-932e-94207e055371",
        "colab": {
          "base_uri": "https://localhost:8080/",
          "height": 625
        }
      },
      "source": [
        "model.summary()"
      ],
      "execution_count": null,
      "outputs": [
        {
          "output_type": "stream",
          "text": [
            "Model: \"functional_1\"\n",
            "__________________________________________________________________________________________________\n",
            "Layer (type)                    Output Shape         Param #     Connected to                     \n",
            "==================================================================================================\n",
            "Movie (InputLayer)              [(None, 1)]          0                                            \n",
            "__________________________________________________________________________________________________\n",
            "User (InputLayer)               [(None, 1)]          0                                            \n",
            "__________________________________________________________________________________________________\n",
            "Movie-Embedding (Embedding)     (None, 1, 8)         184320      Movie[0][0]                      \n",
            "__________________________________________________________________________________________________\n",
            "User-Embedding (Embedding)      (None, 1, 5)         59100       User[0][0]                       \n",
            "__________________________________________________________________________________________________\n",
            "FlattenMovies (Flatten)         (None, 8)            0           Movie-Embedding[0][0]            \n",
            "__________________________________________________________________________________________________\n",
            "FlattenUsers (Flatten)          (None, 5)            0           User-Embedding[0][0]             \n",
            "__________________________________________________________________________________________________\n",
            "Dropout-1 (Dropout)             (None, 8)            0           FlattenMovies[0][0]              \n",
            "__________________________________________________________________________________________________\n",
            "Dropout-2 (Dropout)             (None, 5)            0           FlattenUsers[0][0]               \n",
            "__________________________________________________________________________________________________\n",
            "concatenate (Concatenate)       (None, 13)           0           Dropout-1[0][0]                  \n",
            "                                                                 Dropout-2[0][0]                  \n",
            "__________________________________________________________________________________________________\n",
            "FullyConnected-1 (Dense)        (None, 100)          1400        concatenate[0][0]                \n",
            "__________________________________________________________________________________________________\n",
            "FullyConnected-2 (Dense)        (None, 50)           5050        FullyConnected-1[0][0]           \n",
            "__________________________________________________________________________________________________\n",
            "FullyConnected-3 (Dense)        (None, 20)           1020        FullyConnected-2[0][0]           \n",
            "__________________________________________________________________________________________________\n",
            "Activation (Dense)              (None, 1)            21          FullyConnected-3[0][0]           \n",
            "==================================================================================================\n",
            "Total params: 250,911\n",
            "Trainable params: 250,911\n",
            "Non-trainable params: 0\n",
            "__________________________________________________________________________________________________\n"
          ],
          "name": "stdout"
        }
      ]
    },
    {
      "cell_type": "code",
      "metadata": {
        "id": "4QhU5KBegPnS",
        "outputId": "37a8fece-8aa2-415e-c888-d2c7c4135d4d",
        "colab": {
          "base_uri": "https://localhost:8080/",
          "height": 856
        }
      },
      "source": [
        "keras.utils.plot_model(model)"
      ],
      "execution_count": null,
      "outputs": [
        {
          "output_type": "execute_result",
          "data": {
            "image/png": "[encoded data removed]",
            "text/plain": [
              "<IPython.core.display.Image object>"
            ]
          },
          "metadata": {
            "tags": []
          },
          "execution_count": 9
        }
      ]
    },
    {
      "cell_type": "code",
      "metadata": {
        "id": "gV0OhbOXO7pL",
        "outputId": "060589e5-4776-4731-91f8-5f21b231c5dc",
        "colab": {
          "base_uri": "https://localhost:8080/",
          "height": 206
        }
      },
      "source": [
        "# load training data\n",
        "\n",
        "train_df = pd.read_csv(PROJECT_DIR + \"dataset_split/training_set.csv\")\n",
        "train_df.head()"
      ],
      "execution_count": null,
      "outputs": [
        {
          "output_type": "execute_result",
          "data": {
            "text/html": [
              "<div>\n",
              "<style scoped>\n",
              "    .dataframe tbody tr th:only-of-type {\n",
              "        vertical-align: middle;\n",
              "    }\n",
              "\n",
              "    .dataframe tbody tr th {\n",
              "        vertical-align: top;\n",
              "    }\n",
              "\n",
              "    .dataframe thead th {\n",
              "        text-align: right;\n",
              "    }\n",
              "</style>\n",
              "<table border=\"1\" class=\"dataframe\">\n",
              "  <thead>\n",
              "    <tr style=\"text-align: right;\">\n",
              "      <th></th>\n",
              "      <th>userId</th>\n",
              "      <th>movieId</th>\n",
              "      <th>rating</th>\n",
              "      <th>timestamp</th>\n",
              "    </tr>\n",
              "  </thead>\n",
              "  <tbody>\n",
              "    <tr>\n",
              "      <th>0</th>\n",
              "      <td>1</td>\n",
              "      <td>481</td>\n",
              "      <td>3.5</td>\n",
              "      <td>1256677456</td>\n",
              "    </tr>\n",
              "    <tr>\n",
              "      <th>1</th>\n",
              "      <td>1</td>\n",
              "      <td>1591</td>\n",
              "      <td>1.5</td>\n",
              "      <td>1256677475</td>\n",
              "    </tr>\n",
              "    <tr>\n",
              "      <th>2</th>\n",
              "      <td>1</td>\n",
              "      <td>2478</td>\n",
              "      <td>4.0</td>\n",
              "      <td>1256677239</td>\n",
              "    </tr>\n",
              "    <tr>\n",
              "      <th>3</th>\n",
              "      <td>1</td>\n",
              "      <td>2840</td>\n",
              "      <td>3.0</td>\n",
              "      <td>1256677500</td>\n",
              "    </tr>\n",
              "    <tr>\n",
              "      <th>4</th>\n",
              "      <td>1</td>\n",
              "      <td>3698</td>\n",
              "      <td>3.5</td>\n",
              "      <td>1256677243</td>\n",
              "    </tr>\n",
              "  </tbody>\n",
              "</table>\n",
              "</div>"
            ],
            "text/plain": [
              "   userId  movieId  rating   timestamp\n",
              "0       1      481     3.5  1256677456\n",
              "1       1     1591     1.5  1256677475\n",
              "2       1     2478     4.0  1256677239\n",
              "3       1     2840     3.0  1256677500\n",
              "4       1     3698     3.5  1256677243"
            ]
          },
          "metadata": {
            "tags": []
          },
          "execution_count": 10
        }
      ]
    },
    {
      "cell_type": "code",
      "metadata": {
        "id": "fbKdoGcC1JQX",
        "outputId": "a0c904c0-8242-4981-ddf8-3909ed878b98",
        "colab": {
          "base_uri": "https://localhost:8080/",
          "height": 206
        }
      },
      "source": [
        "train_df['movieIdCat'] = train_df.movieId.astype('category').cat.codes.values\n",
        "train_df['userIdCat'] = train_df.userId.astype('category').cat.codes.values\n",
        "train_df.head()"
      ],
      "execution_count": null,
      "outputs": [
        {
          "output_type": "execute_result",
          "data": {
            "text/html": [
              "<div>\n",
              "<style scoped>\n",
              "    .dataframe tbody tr th:only-of-type {\n",
              "        vertical-align: middle;\n",
              "    }\n",
              "\n",
              "    .dataframe tbody tr th {\n",
              "        vertical-align: top;\n",
              "    }\n",
              "\n",
              "    .dataframe thead th {\n",
              "        text-align: right;\n",
              "    }\n",
              "</style>\n",
              "<table border=\"1\" class=\"dataframe\">\n",
              "  <thead>\n",
              "    <tr style=\"text-align: right;\">\n",
              "      <th></th>\n",
              "      <th>userId</th>\n",
              "      <th>movieId</th>\n",
              "      <th>rating</th>\n",
              "      <th>timestamp</th>\n",
              "      <th>movieIdCat</th>\n",
              "      <th>userIdCat</th>\n",
              "    </tr>\n",
              "  </thead>\n",
              "  <tbody>\n",
              "    <tr>\n",
              "      <th>0</th>\n",
              "      <td>1</td>\n",
              "      <td>481</td>\n",
              "      <td>3.5</td>\n",
              "      <td>1256677456</td>\n",
              "      <td>473</td>\n",
              "      <td>0</td>\n",
              "    </tr>\n",
              "    <tr>\n",
              "      <th>1</th>\n",
              "      <td>1</td>\n",
              "      <td>1591</td>\n",
              "      <td>1.5</td>\n",
              "      <td>1256677475</td>\n",
              "      <td>1477</td>\n",
              "      <td>0</td>\n",
              "    </tr>\n",
              "    <tr>\n",
              "      <th>2</th>\n",
              "      <td>1</td>\n",
              "      <td>2478</td>\n",
              "      <td>4.0</td>\n",
              "      <td>1256677239</td>\n",
              "      <td>2306</td>\n",
              "      <td>0</td>\n",
              "    </tr>\n",
              "    <tr>\n",
              "      <th>3</th>\n",
              "      <td>1</td>\n",
              "      <td>2840</td>\n",
              "      <td>3.0</td>\n",
              "      <td>1256677500</td>\n",
              "      <td>2655</td>\n",
              "      <td>0</td>\n",
              "    </tr>\n",
              "    <tr>\n",
              "      <th>4</th>\n",
              "      <td>1</td>\n",
              "      <td>3698</td>\n",
              "      <td>3.5</td>\n",
              "      <td>1256677243</td>\n",
              "      <td>3457</td>\n",
              "      <td>0</td>\n",
              "    </tr>\n",
              "  </tbody>\n",
              "</table>\n",
              "</div>"
            ],
            "text/plain": [
              "   userId  movieId  rating   timestamp  movieIdCat  userIdCat\n",
              "0       1      481     3.5  1256677456         473          0\n",
              "1       1     1591     1.5  1256677475        1477          0\n",
              "2       1     2478     4.0  1256677239        2306          0\n",
              "3       1     2840     3.0  1256677500        2655          0\n",
              "4       1     3698     3.5  1256677243        3457          0"
            ]
          },
          "metadata": {
            "tags": []
          },
          "execution_count": 11
        }
      ]
    },
    {
      "cell_type": "code",
      "metadata": {
        "id": "R-CQ9HL60unP",
        "outputId": "09d972da-358f-4e70-fb13-48e5af26da71",
        "colab": {
          "base_uri": "https://localhost:8080/",
          "height": 1000
        }
      },
      "source": [
        "# training the model\n",
        "\n",
        "history = model.fit([train_df.userIdCat, train_df.movieIdCat], train_df.rating, epochs=30, verbose=1)"
      ],
      "execution_count": null,
      "outputs": [
        {
          "output_type": "stream",
          "text": [
            "Epoch 1/30\n",
            "29466/29466 [==============================] - 94s 3ms/step - loss: 0.7121\n",
            "Epoch 2/30\n",
            "29466/29466 [==============================] - 95s 3ms/step - loss: 0.6751\n",
            "Epoch 3/30\n",
            "29466/29466 [==============================] - 94s 3ms/step - loss: 0.6617\n",
            "Epoch 4/30\n",
            "29466/29466 [==============================] - 94s 3ms/step - loss: 0.6557\n",
            "Epoch 5/30\n",
            "29466/29466 [==============================] - 95s 3ms/step - loss: 0.6513\n",
            "Epoch 6/30\n",
            "29466/29466 [==============================] - 93s 3ms/step - loss: 0.6481\n",
            "Epoch 7/30\n",
            "29466/29466 [==============================] - 93s 3ms/step - loss: 0.6455\n",
            "Epoch 8/30\n",
            "29466/29466 [==============================] - 95s 3ms/step - loss: 0.6431\n",
            "Epoch 9/30\n",
            "29466/29466 [==============================] - 93s 3ms/step - loss: 0.6414\n",
            "Epoch 10/30\n",
            "29466/29466 [==============================] - 94s 3ms/step - loss: 0.6397\n",
            "Epoch 11/30\n",
            "29466/29466 [==============================] - 93s 3ms/step - loss: 0.6390\n",
            "Epoch 12/30\n",
            "29466/29466 [==============================] - 95s 3ms/step - loss: 0.6373\n",
            "Epoch 13/30\n",
            "29466/29466 [==============================] - 94s 3ms/step - loss: 0.6363\n",
            "Epoch 14/30\n",
            "29466/29466 [==============================] - 94s 3ms/step - loss: 0.6351\n",
            "Epoch 15/30\n",
            "29466/29466 [==============================] - 95s 3ms/step - loss: 0.6350\n",
            "Epoch 16/30\n",
            "29466/29466 [==============================] - 94s 3ms/step - loss: 0.6341\n",
            "Epoch 17/30\n",
            "29466/29466 [==============================] - 94s 3ms/step - loss: 0.6336\n",
            "Epoch 18/30\n",
            "29466/29466 [==============================] - 96s 3ms/step - loss: 0.6324\n",
            "Epoch 19/30\n",
            "29466/29466 [==============================] - 94s 3ms/step - loss: 0.6317\n",
            "Epoch 20/30\n",
            "29466/29466 [==============================] - 94s 3ms/step - loss: 0.6312\n",
            "Epoch 21/30\n",
            "29466/29466 [==============================] - 94s 3ms/step - loss: 0.6305\n",
            "Epoch 22/30\n",
            "29466/29466 [==============================] - 95s 3ms/step - loss: 0.6304\n",
            "Epoch 23/30\n",
            "29466/29466 [==============================] - 94s 3ms/step - loss: 0.6295\n",
            "Epoch 24/30\n",
            "29466/29466 [==============================] - 94s 3ms/step - loss: 0.6290\n",
            "Epoch 25/30\n",
            "29466/29466 [==============================] - 95s 3ms/step - loss: 0.6286\n",
            "Epoch 26/30\n",
            "29466/29466 [==============================] - 94s 3ms/step - loss: 0.6280\n",
            "Epoch 27/30\n",
            "29466/29466 [==============================] - 93s 3ms/step - loss: 0.6278\n",
            "Epoch 28/30\n",
            "29466/29466 [==============================] - 94s 3ms/step - loss: 0.6272\n",
            "Epoch 29/30\n",
            "29466/29466 [==============================] - 93s 3ms/step - loss: 0.6268\n",
            "Epoch 30/30\n",
            "29466/29466 [==============================] - 93s 3ms/step - loss: 0.6262\n"
          ],
          "name": "stdout"
        }
      ]
    },
    {
      "cell_type": "code",
      "metadata": {
        "id": "6Bwg-LVy0ukz"
      },
      "source": [
        "model.save('reco_NNmodel.h5')"
      ],
      "execution_count": null,
      "outputs": []
    },
    {
      "cell_type": "code",
      "metadata": {
        "id": "3TkRBqkQ0thT",
        "outputId": "6f643e62-cd96-47d4-cc99-f7cfa30ac854",
        "colab": {
          "base_uri": "https://localhost:8080/",
          "height": 206
        }
      },
      "source": [
        "# load validation data\n",
        "\n",
        "validate_df = pd.read_csv(PROJECT_DIR + \"dataset_split/validation_set.csv\")\n",
        "validate_df.head()"
      ],
      "execution_count": null,
      "outputs": [
        {
          "output_type": "execute_result",
          "data": {
            "text/html": [
              "<div>\n",
              "<style scoped>\n",
              "    .dataframe tbody tr th:only-of-type {\n",
              "        vertical-align: middle;\n",
              "    }\n",
              "\n",
              "    .dataframe tbody tr th {\n",
              "        vertical-align: top;\n",
              "    }\n",
              "\n",
              "    .dataframe thead th {\n",
              "        text-align: right;\n",
              "    }\n",
              "</style>\n",
              "<table border=\"1\" class=\"dataframe\">\n",
              "  <thead>\n",
              "    <tr style=\"text-align: right;\">\n",
              "      <th></th>\n",
              "      <th>userId</th>\n",
              "      <th>movieId</th>\n",
              "      <th>rating</th>\n",
              "      <th>timestamp</th>\n",
              "    </tr>\n",
              "  </thead>\n",
              "  <tbody>\n",
              "    <tr>\n",
              "      <th>0</th>\n",
              "      <td>1</td>\n",
              "      <td>307</td>\n",
              "      <td>3.5</td>\n",
              "      <td>1256677221</td>\n",
              "    </tr>\n",
              "    <tr>\n",
              "      <th>1</th>\n",
              "      <td>1</td>\n",
              "      <td>1590</td>\n",
              "      <td>2.5</td>\n",
              "      <td>1256677236</td>\n",
              "    </tr>\n",
              "    <tr>\n",
              "      <th>2</th>\n",
              "      <td>1</td>\n",
              "      <td>3424</td>\n",
              "      <td>4.5</td>\n",
              "      <td>1256677444</td>\n",
              "    </tr>\n",
              "    <tr>\n",
              "      <th>3</th>\n",
              "      <td>2</td>\n",
              "      <td>170</td>\n",
              "      <td>3.5</td>\n",
              "      <td>1192913581</td>\n",
              "    </tr>\n",
              "    <tr>\n",
              "      <th>4</th>\n",
              "      <td>2</td>\n",
              "      <td>1296</td>\n",
              "      <td>4.5</td>\n",
              "      <td>1192913608</td>\n",
              "    </tr>\n",
              "  </tbody>\n",
              "</table>\n",
              "</div>"
            ],
            "text/plain": [
              "   userId  movieId  rating   timestamp\n",
              "0       1      307     3.5  1256677221\n",
              "1       1     1590     2.5  1256677236\n",
              "2       1     3424     4.5  1256677444\n",
              "3       2      170     3.5  1192913581\n",
              "4       2     1296     4.5  1192913608"
            ]
          },
          "metadata": {
            "tags": []
          },
          "execution_count": 14
        }
      ]
    },
    {
      "cell_type": "code",
      "metadata": {
        "id": "FvWOCP38dfYR",
        "outputId": "fe00774c-99b8-4b8d-d791-9d82fab137e5",
        "colab": {
          "base_uri": "https://localhost:8080/",
          "height": 206
        }
      },
      "source": [
        "validate_df['movieIdCat'] = validate_df.movieId.astype('category').cat.codes.values\n",
        "validate_df['userIdCat'] = validate_df.userId.astype('category').cat.codes.values\n",
        "validate_df.head()"
      ],
      "execution_count": null,
      "outputs": [
        {
          "output_type": "execute_result",
          "data": {
            "text/html": [
              "<div>\n",
              "<style scoped>\n",
              "    .dataframe tbody tr th:only-of-type {\n",
              "        vertical-align: middle;\n",
              "    }\n",
              "\n",
              "    .dataframe tbody tr th {\n",
              "        vertical-align: top;\n",
              "    }\n",
              "\n",
              "    .dataframe thead th {\n",
              "        text-align: right;\n",
              "    }\n",
              "</style>\n",
              "<table border=\"1\" class=\"dataframe\">\n",
              "  <thead>\n",
              "    <tr style=\"text-align: right;\">\n",
              "      <th></th>\n",
              "      <th>userId</th>\n",
              "      <th>movieId</th>\n",
              "      <th>rating</th>\n",
              "      <th>timestamp</th>\n",
              "      <th>movieIdCat</th>\n",
              "      <th>userIdCat</th>\n",
              "    </tr>\n",
              "  </thead>\n",
              "  <tbody>\n",
              "    <tr>\n",
              "      <th>0</th>\n",
              "      <td>1</td>\n",
              "      <td>307</td>\n",
              "      <td>3.5</td>\n",
              "      <td>1256677221</td>\n",
              "      <td>286</td>\n",
              "      <td>0</td>\n",
              "    </tr>\n",
              "    <tr>\n",
              "      <th>1</th>\n",
              "      <td>1</td>\n",
              "      <td>1590</td>\n",
              "      <td>2.5</td>\n",
              "      <td>1256677236</td>\n",
              "      <td>1361</td>\n",
              "      <td>0</td>\n",
              "    </tr>\n",
              "    <tr>\n",
              "      <th>2</th>\n",
              "      <td>1</td>\n",
              "      <td>3424</td>\n",
              "      <td>4.5</td>\n",
              "      <td>1256677444</td>\n",
              "      <td>2911</td>\n",
              "      <td>0</td>\n",
              "    </tr>\n",
              "    <tr>\n",
              "      <th>3</th>\n",
              "      <td>2</td>\n",
              "      <td>170</td>\n",
              "      <td>3.5</td>\n",
              "      <td>1192913581</td>\n",
              "      <td>153</td>\n",
              "      <td>1</td>\n",
              "    </tr>\n",
              "    <tr>\n",
              "      <th>4</th>\n",
              "      <td>2</td>\n",
              "      <td>1296</td>\n",
              "      <td>4.5</td>\n",
              "      <td>1192913608</td>\n",
              "      <td>1130</td>\n",
              "      <td>1</td>\n",
              "    </tr>\n",
              "  </tbody>\n",
              "</table>\n",
              "</div>"
            ],
            "text/plain": [
              "   userId  movieId  rating   timestamp  movieIdCat  userIdCat\n",
              "0       1      307     3.5  1256677221         286          0\n",
              "1       1     1590     2.5  1256677236        1361          0\n",
              "2       1     3424     4.5  1256677444        2911          0\n",
              "3       2      170     3.5  1192913581         153          1\n",
              "4       2     1296     4.5  1192913608        1130          1"
            ]
          },
          "metadata": {
            "tags": []
          },
          "execution_count": 15
        }
      ]
    },
    {
      "cell_type": "code",
      "metadata": {
        "id": "-xS4BbJN9T5h"
      },
      "source": [
        "from keras.models import load_model\n",
        "model = load_model('reco_NNmodel.h5')"
      ],
      "execution_count": null,
      "outputs": []
    },
    {
      "cell_type": "code",
      "metadata": {
        "id": "2x0LKLjg9h5_",
        "outputId": "5e20feca-1df8-49a3-ab2c-38464c3d1d05",
        "colab": {
          "base_uri": "https://localhost:8080/",
          "height": 206
        }
      },
      "source": [
        "# predict on validation set using the trained model\n",
        "\n",
        "validate_df['predicted_rating'] = model.predict([validate_df.userIdCat, validate_df.movieIdCat])\n",
        "validate_df.head()"
      ],
      "execution_count": null,
      "outputs": [
        {
          "output_type": "execute_result",
          "data": {
            "text/html": [
              "<div>\n",
              "<style scoped>\n",
              "    .dataframe tbody tr th:only-of-type {\n",
              "        vertical-align: middle;\n",
              "    }\n",
              "\n",
              "    .dataframe tbody tr th {\n",
              "        vertical-align: top;\n",
              "    }\n",
              "\n",
              "    .dataframe thead th {\n",
              "        text-align: right;\n",
              "    }\n",
              "</style>\n",
              "<table border=\"1\" class=\"dataframe\">\n",
              "  <thead>\n",
              "    <tr style=\"text-align: right;\">\n",
              "      <th></th>\n",
              "      <th>userId</th>\n",
              "      <th>movieId</th>\n",
              "      <th>rating</th>\n",
              "      <th>timestamp</th>\n",
              "      <th>movieIdCat</th>\n",
              "      <th>userIdCat</th>\n",
              "      <th>predicted_rating</th>\n",
              "    </tr>\n",
              "  </thead>\n",
              "  <tbody>\n",
              "    <tr>\n",
              "      <th>0</th>\n",
              "      <td>1</td>\n",
              "      <td>307</td>\n",
              "      <td>3.5</td>\n",
              "      <td>1256677221</td>\n",
              "      <td>286</td>\n",
              "      <td>0</td>\n",
              "      <td>1.874426</td>\n",
              "    </tr>\n",
              "    <tr>\n",
              "      <th>1</th>\n",
              "      <td>1</td>\n",
              "      <td>1590</td>\n",
              "      <td>2.5</td>\n",
              "      <td>1256677236</td>\n",
              "      <td>1361</td>\n",
              "      <td>0</td>\n",
              "      <td>1.791898</td>\n",
              "    </tr>\n",
              "    <tr>\n",
              "      <th>2</th>\n",
              "      <td>1</td>\n",
              "      <td>3424</td>\n",
              "      <td>4.5</td>\n",
              "      <td>1256677444</td>\n",
              "      <td>2911</td>\n",
              "      <td>0</td>\n",
              "      <td>3.000674</td>\n",
              "    </tr>\n",
              "    <tr>\n",
              "      <th>3</th>\n",
              "      <td>2</td>\n",
              "      <td>170</td>\n",
              "      <td>3.5</td>\n",
              "      <td>1192913581</td>\n",
              "      <td>153</td>\n",
              "      <td>1</td>\n",
              "      <td>3.004210</td>\n",
              "    </tr>\n",
              "    <tr>\n",
              "      <th>4</th>\n",
              "      <td>2</td>\n",
              "      <td>1296</td>\n",
              "      <td>4.5</td>\n",
              "      <td>1192913608</td>\n",
              "      <td>1130</td>\n",
              "      <td>1</td>\n",
              "      <td>4.011952</td>\n",
              "    </tr>\n",
              "  </tbody>\n",
              "</table>\n",
              "</div>"
            ],
            "text/plain": [
              "   userId  movieId  rating   timestamp  movieIdCat  userIdCat  predicted_rating\n",
              "0       1      307     3.5  1256677221         286          0          1.874426\n",
              "1       1     1590     2.5  1256677236        1361          0          1.791898\n",
              "2       1     3424     4.5  1256677444        2911          0          3.000674\n",
              "3       2      170     3.5  1192913581         153          1          3.004210\n",
              "4       2     1296     4.5  1192913608        1130          1          4.011952"
            ]
          },
          "metadata": {
            "tags": []
          },
          "execution_count": 17
        }
      ]
    },
    {
      "cell_type": "code",
      "metadata": {
        "id": "6op6vS3U0uWN",
        "outputId": "55d94b59-46fa-4f28-9265-a2f4a660e1ce",
        "colab": {
          "base_uri": "https://localhost:8080/",
          "height": 424
        }
      },
      "source": [
        "# predicted ratings\n",
        "\n",
        "validate_df[['userId', 'movieId', 'rating', 'predicted_rating']]"
      ],
      "execution_count": null,
      "outputs": [
        {
          "output_type": "execute_result",
          "data": {
            "text/html": [
              "<div>\n",
              "<style scoped>\n",
              "    .dataframe tbody tr th:only-of-type {\n",
              "        vertical-align: middle;\n",
              "    }\n",
              "\n",
              "    .dataframe tbody tr th {\n",
              "        vertical-align: top;\n",
              "    }\n",
              "\n",
              "    .dataframe thead th {\n",
              "        text-align: right;\n",
              "    }\n",
              "</style>\n",
              "<table border=\"1\" class=\"dataframe\">\n",
              "  <thead>\n",
              "    <tr style=\"text-align: right;\">\n",
              "      <th></th>\n",
              "      <th>userId</th>\n",
              "      <th>movieId</th>\n",
              "      <th>rating</th>\n",
              "      <th>predicted_rating</th>\n",
              "    </tr>\n",
              "  </thead>\n",
              "  <tbody>\n",
              "    <tr>\n",
              "      <th>0</th>\n",
              "      <td>1</td>\n",
              "      <td>307</td>\n",
              "      <td>3.5</td>\n",
              "      <td>1.874426</td>\n",
              "    </tr>\n",
              "    <tr>\n",
              "      <th>1</th>\n",
              "      <td>1</td>\n",
              "      <td>1590</td>\n",
              "      <td>2.5</td>\n",
              "      <td>1.791898</td>\n",
              "    </tr>\n",
              "    <tr>\n",
              "      <th>2</th>\n",
              "      <td>1</td>\n",
              "      <td>3424</td>\n",
              "      <td>4.5</td>\n",
              "      <td>3.000674</td>\n",
              "    </tr>\n",
              "    <tr>\n",
              "      <th>3</th>\n",
              "      <td>2</td>\n",
              "      <td>170</td>\n",
              "      <td>3.5</td>\n",
              "      <td>3.004210</td>\n",
              "    </tr>\n",
              "    <tr>\n",
              "      <th>4</th>\n",
              "      <td>2</td>\n",
              "      <td>1296</td>\n",
              "      <td>4.5</td>\n",
              "      <td>4.011952</td>\n",
              "    </tr>\n",
              "    <tr>\n",
              "      <th>...</th>\n",
              "      <td>...</td>\n",
              "      <td>...</td>\n",
              "      <td>...</td>\n",
              "      <td>...</td>\n",
              "    </tr>\n",
              "    <tr>\n",
              "      <th>235449</th>\n",
              "      <td>11819</td>\n",
              "      <td>49822</td>\n",
              "      <td>4.0</td>\n",
              "      <td>3.998772</td>\n",
              "    </tr>\n",
              "    <tr>\n",
              "      <th>235450</th>\n",
              "      <td>11819</td>\n",
              "      <td>52281</td>\n",
              "      <td>2.5</td>\n",
              "      <td>3.993529</td>\n",
              "    </tr>\n",
              "    <tr>\n",
              "      <th>235451</th>\n",
              "      <td>11819</td>\n",
              "      <td>53125</td>\n",
              "      <td>2.0</td>\n",
              "      <td>3.894986</td>\n",
              "    </tr>\n",
              "    <tr>\n",
              "      <th>235452</th>\n",
              "      <td>11819</td>\n",
              "      <td>54116</td>\n",
              "      <td>3.5</td>\n",
              "      <td>4.011596</td>\n",
              "    </tr>\n",
              "    <tr>\n",
              "      <th>235453</th>\n",
              "      <td>11819</td>\n",
              "      <td>54771</td>\n",
              "      <td>3.5</td>\n",
              "      <td>3.990222</td>\n",
              "    </tr>\n",
              "  </tbody>\n",
              "</table>\n",
              "<p>235454 rows × 4 columns</p>\n",
              "</div>"
            ],
            "text/plain": [
              "        userId  movieId  rating  predicted_rating\n",
              "0            1      307     3.5          1.874426\n",
              "1            1     1590     2.5          1.791898\n",
              "2            1     3424     4.5          3.000674\n",
              "3            2      170     3.5          3.004210\n",
              "4            2     1296     4.5          4.011952\n",
              "...        ...      ...     ...               ...\n",
              "235449   11819    49822     4.0          3.998772\n",
              "235450   11819    52281     2.5          3.993529\n",
              "235451   11819    53125     2.0          3.894986\n",
              "235452   11819    54116     3.5          4.011596\n",
              "235453   11819    54771     3.5          3.990222\n",
              "\n",
              "[235454 rows x 4 columns]"
            ]
          },
          "metadata": {
            "tags": []
          },
          "execution_count": 18
        }
      ]
    },
    {
      "cell_type": "code",
      "metadata": {
        "id": "OcLwevik0uPq"
      },
      "source": [
        "# save prediction to file\n",
        "\n",
        "validate_df[['userId', 'movieId', 'rating', 'predicted_rating']].to_csv(\n",
        "    PROJECT_DIR + 'predictions/prediction_neuralnet.csv') "
      ],
      "execution_count": null,
      "outputs": []
    },
    {
      "cell_type": "code",
      "metadata": {
        "id": "6LEhrzZVqxmL"
      },
      "source": [
        ""
      ],
      "execution_count": null,
      "outputs": []
    }
  ]
}