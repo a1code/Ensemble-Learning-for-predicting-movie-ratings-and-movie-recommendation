{
  "nbformat": 4,
  "nbformat_minor": 0,
  "metadata": {
    "colab": {
      "name": "train_and_predict_ALS.ipynb",
      "provenance": [],
      "collapsed_sections": []
    },
    "kernelspec": {
      "name": "python3",
      "display_name": "Python 3"
    }
  },
  "cells": [
    {
      "cell_type": "code",
      "metadata": {
        "id": "64qEck7FeeZz",
        "outputId": "75496781-51fd-4a74-9360-f56b63830831",
        "colab": {
          "base_uri": "https://localhost:8080/",
          "height": 34
        }
      },
      "source": [
        "from google.colab import drive\n",
        "drive.mount('/content/drive')"
      ],
      "execution_count": 16,
      "outputs": [
        {
          "output_type": "stream",
          "text": [
            "Drive already mounted at /content/drive; to attempt to forcibly remount, call drive.mount(\"/content/drive\", force_remount=True).\n"
          ],
          "name": "stdout"
        }
      ]
    },
    {
      "cell_type": "code",
      "metadata": {
        "id": "2kOmWlIfiPbY"
      },
      "source": [
        "# install PySpark for this notebook\n",
        "\n",
        "!apt-get install openjdk-8-jdk-headless -qq > /dev/null\n",
        "!wget -q https://downloads.apache.org/spark/spark-3.0.1/spark-3.0.1-bin-hadoop2.7.tgz\n",
        "!tar xf spark-3.0.1-bin-hadoop2.7.tgz\n",
        "!rm \"spark-3.0.1-bin-hadoop2.7.tgz\"\n",
        "!pip install -q findspark\n",
        "import os\n",
        "os.environ[\"JAVA_HOME\"] = \"/usr/lib/jvm/java-8-openjdk-amd64\"\n",
        "os.environ[\"SPARK_HOME\"] = \"/content/spark-3.0.1-bin-hadoop2.7\"\n",
        "import findspark\n",
        "findspark.init(\"/content/spark-3.0.1-bin-hadoop2.7\")"
      ],
      "execution_count": 17,
      "outputs": []
    },
    {
      "cell_type": "code",
      "metadata": {
        "id": "iLL1oRTPdrLd"
      },
      "source": [
        "# !rm -rf \"spark-3.0.1-bin-hadoop2.7\""
      ],
      "execution_count": 18,
      "outputs": []
    },
    {
      "cell_type": "code",
      "metadata": {
        "id": "JvISCV9MFeVh"
      },
      "source": [
        "from pyspark.sql import Row\n",
        "from pyspark import SparkConf, SparkContext\n",
        "from pyspark.mllib.recommendation import ALS, Rating\n",
        "\n",
        "import numpy as np\n",
        "import pandas as pd"
      ],
      "execution_count": 19,
      "outputs": []
    },
    {
      "cell_type": "code",
      "metadata": {
        "id": "C-KFn0WwSfY0"
      },
      "source": [
        "PROJECT_DIR = \"/content/drive/My Drive/Project_EnsembleLearning/\""
      ],
      "execution_count": 20,
      "outputs": []
    },
    {
      "cell_type": "code",
      "metadata": {
        "id": "AD_iGSBmsGsp"
      },
      "source": [
        "# create spark context\n",
        "\n",
        "sc = SparkContext.getOrCreate(SparkConf())\n",
        "sc.setCheckpointDir(PROJECT_DIR + \"spark_checkpoint_dir\")"
      ],
      "execution_count": 21,
      "outputs": []
    },
    {
      "cell_type": "code",
      "metadata": {
        "id": "eqdQEvYyfTgU"
      },
      "source": [
        "# user defined function to parse the loaded file line by file\n",
        "\n",
        "def parseline(line):\n",
        "    fields = line.split(',')\n",
        "    userId = fields[0]\n",
        "    movieId = fields[1]\n",
        "    rating = fields[2]\n",
        "    return (userId, movieId, rating)"
      ],
      "execution_count": 22,
      "outputs": []
    },
    {
      "cell_type": "code",
      "metadata": {
        "id": "s7_A6F1-sRjV",
        "outputId": "89c28ee0-2310-424a-9d58-a3137b14ff5c",
        "colab": {
          "base_uri": "https://localhost:8080/",
          "height": 104
        }
      },
      "source": [
        "# load training dataset\n",
        "\n",
        "lines = sc.textFile(PROJECT_DIR + 'dataset_split/training_set.csv')\n",
        "parsedlines = lines.map(parseline)\n",
        "header = parsedlines.first()\n",
        "\n",
        "# remove the header and make sure the rest of the parsed lines are correct\n",
        "parsedlines = parsedlines.filter(lambda line: line != header)\n",
        "\n",
        "training_set = parsedlines.map(lambda l: Rating(int(l[0]), int(l[1]), float(l[2])) ).cache()\n",
        "training_set.take(5)"
      ],
      "execution_count": 23,
      "outputs": [
        {
          "output_type": "execute_result",
          "data": {
            "text/plain": [
              "[Rating(user=1, product=481, rating=3.5),\n",
              " Rating(user=1, product=1591, rating=1.5),\n",
              " Rating(user=1, product=2478, rating=4.0),\n",
              " Rating(user=1, product=2840, rating=3.0),\n",
              " Rating(user=1, product=3698, rating=3.5)]"
            ]
          },
          "metadata": {
            "tags": []
          },
          "execution_count": 23
        }
      ]
    },
    {
      "cell_type": "code",
      "metadata": {
        "id": "wL_XzlDYsR0K"
      },
      "source": [
        "# load validation dataset\n",
        "\n",
        "lines = sc.textFile(PROJECT_DIR + 'dataset_split/validation_set.csv')\n",
        "parsedlines = lines.map(parseline)\n",
        "header = parsedlines.first()\n",
        "\n",
        "# remove the header and make sure the rest of the parsed lines are correct\n",
        "parsedlines = parsedlines.filter(lambda line: line != header)\n",
        "\n",
        "validation_set_with_true_ratings = parsedlines.map(\n",
        "    lambda l: (int(l[0]), int(l[1]), float(l[2]))).cache()\n",
        "\n",
        "validation_set = validation_set_with_true_ratings.map(lambda t: (t[0], t[1]))"
      ],
      "execution_count": 24,
      "outputs": []
    },
    {
      "cell_type": "code",
      "metadata": {
        "id": "d9pN7SeusqZ2"
      },
      "source": [
        "# Training the model using Alternating Least Squares\n",
        "\n",
        "rank = 5\n",
        "numIterations = 100\n",
        "model = ALS.train(training_set, rank, numIterations)"
      ],
      "execution_count": 25,
      "outputs": []
    },
    {
      "cell_type": "code",
      "metadata": {
        "id": "SGDlpOjJsq06"
      },
      "source": [
        "# predict ratings for the validation set using the trained ALS model\n",
        "\n",
        "predictions = model.predictAll(validation_set).collect()"
      ],
      "execution_count": 26,
      "outputs": []
    },
    {
      "cell_type": "code",
      "metadata": {
        "id": "hHFyeiBhlv_l",
        "outputId": "8b16f1f1-f58b-4e59-836c-216f69abfe8f",
        "colab": {
          "base_uri": "https://localhost:8080/",
          "height": 34
        }
      },
      "source": [
        "predictions[0]"
      ],
      "execution_count": 27,
      "outputs": [
        {
          "output_type": "execute_result",
          "data": {
            "text/plain": [
              "Rating(user=9591, product=32196, rating=4.228439292409687)"
            ]
          },
          "metadata": {
            "tags": []
          },
          "execution_count": 27
        }
      ]
    },
    {
      "cell_type": "code",
      "metadata": {
        "id": "NOxhN7xqsSFo",
        "outputId": "898b146e-bc9a-49aa-978f-9cf61bdac4b6",
        "colab": {
          "base_uri": "https://localhost:8080/",
          "height": 206
        }
      },
      "source": [
        "df_validate = pd.DataFrame(validation_set_with_true_ratings.collect())\n",
        "\n",
        "df_result_als = pd.DataFrame(predictions)\n",
        "df_result_als.columns = ['userId', 'movieId', 'predicted_rating']\n",
        "              \n",
        "df_result_als['rating'] = df_validate.iloc[:, 2]\n",
        "\n",
        "df_result_als.head()"
      ],
      "execution_count": 28,
      "outputs": [
        {
          "output_type": "execute_result",
          "data": {
            "text/html": [
              "<div>\n",
              "<style scoped>\n",
              "    .dataframe tbody tr th:only-of-type {\n",
              "        vertical-align: middle;\n",
              "    }\n",
              "\n",
              "    .dataframe tbody tr th {\n",
              "        vertical-align: top;\n",
              "    }\n",
              "\n",
              "    .dataframe thead th {\n",
              "        text-align: right;\n",
              "    }\n",
              "</style>\n",
              "<table border=\"1\" class=\"dataframe\">\n",
              "  <thead>\n",
              "    <tr style=\"text-align: right;\">\n",
              "      <th></th>\n",
              "      <th>userId</th>\n",
              "      <th>movieId</th>\n",
              "      <th>predicted_rating</th>\n",
              "      <th>rating</th>\n",
              "    </tr>\n",
              "  </thead>\n",
              "  <tbody>\n",
              "    <tr>\n",
              "      <th>0</th>\n",
              "      <td>9591</td>\n",
              "      <td>32196</td>\n",
              "      <td>4.228439</td>\n",
              "      <td>3.5</td>\n",
              "    </tr>\n",
              "    <tr>\n",
              "      <th>1</th>\n",
              "      <td>5219</td>\n",
              "      <td>32196</td>\n",
              "      <td>2.835220</td>\n",
              "      <td>2.5</td>\n",
              "    </tr>\n",
              "    <tr>\n",
              "      <th>2</th>\n",
              "      <td>4796</td>\n",
              "      <td>91902</td>\n",
              "      <td>2.468013</td>\n",
              "      <td>4.5</td>\n",
              "    </tr>\n",
              "    <tr>\n",
              "      <th>3</th>\n",
              "      <td>4979</td>\n",
              "      <td>91902</td>\n",
              "      <td>1.387823</td>\n",
              "      <td>3.5</td>\n",
              "    </tr>\n",
              "    <tr>\n",
              "      <th>4</th>\n",
              "      <td>3846</td>\n",
              "      <td>68522</td>\n",
              "      <td>5.526903</td>\n",
              "      <td>4.5</td>\n",
              "    </tr>\n",
              "  </tbody>\n",
              "</table>\n",
              "</div>"
            ],
            "text/plain": [
              "   userId  movieId  predicted_rating  rating\n",
              "0    9591    32196          4.228439     3.5\n",
              "1    5219    32196          2.835220     2.5\n",
              "2    4796    91902          2.468013     4.5\n",
              "3    4979    91902          1.387823     3.5\n",
              "4    3846    68522          5.526903     4.5"
            ]
          },
          "metadata": {
            "tags": []
          },
          "execution_count": 28
        }
      ]
    },
    {
      "cell_type": "code",
      "metadata": {
        "id": "dkZapywzLuTu"
      },
      "source": [
        "# save prediction to file\n",
        "\n",
        "df_result_als.to_csv(\n",
        "    PROJECT_DIR + 'predictions/prediction_als.csv', index=False)"
      ],
      "execution_count": 29,
      "outputs": []
    },
    {
      "cell_type": "code",
      "metadata": {
        "id": "8ZK6V7HrfSwu"
      },
      "source": [
        ""
      ],
      "execution_count": 29,
      "outputs": []
    }
  ]
}