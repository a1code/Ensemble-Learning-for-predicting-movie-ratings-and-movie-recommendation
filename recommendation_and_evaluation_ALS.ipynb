{
  "nbformat": 4,
  "nbformat_minor": 0,
  "metadata": {
    "colab": {
      "name": "recommendation_and_evaluation_ALS.ipynb",
      "provenance": []
    },
    "kernelspec": {
      "name": "python3",
      "display_name": "Python 3"
    }
  },
  "cells": [
    {
      "cell_type": "code",
      "metadata": {
        "id": "px82WRm3A1fy",
        "outputId": "1a5a9ed3-2835-4ed7-a0c2-9182c3b0ab02",
        "colab": {
          "base_uri": "https://localhost:8080/",
          "height": 34
        }
      },
      "source": [
        "from google.colab import drive\n",
        "drive.mount('/content/drive')"
      ],
      "execution_count": 1,
      "outputs": [
        {
          "output_type": "stream",
          "text": [
            "Mounted at /content/drive\n"
          ],
          "name": "stdout"
        }
      ]
    },
    {
      "cell_type": "code",
      "metadata": {
        "id": "hI32GuB8A5gZ"
      },
      "source": [
        "PROJECT_DIR = \"/content/drive/My Drive/Project_EnsembleLearning/\""
      ],
      "execution_count": 2,
      "outputs": []
    },
    {
      "cell_type": "code",
      "metadata": {
        "id": "iPV4YdxT06NP"
      },
      "source": [
        "import pandas as pd"
      ],
      "execution_count": 3,
      "outputs": []
    },
    {
      "cell_type": "code",
      "metadata": {
        "id": "to0akDHx1A3g"
      },
      "source": [
        "# model output\n",
        "\n",
        "df_prediction = pd.read_csv(PROJECT_DIR + 'predictions/prediction_als.csv')"
      ],
      "execution_count": 4,
      "outputs": []
    },
    {
      "cell_type": "code",
      "metadata": {
        "id": "-HrrThnp12H6"
      },
      "source": [
        "# all movie ids vs titles\n",
        "\n",
        "df_movies = \\\n",
        "  pd.read_csv(PROJECT_DIR + 'dataset_full/movies.csv', usecols=[0,1], names=['movieId', 'title'])\n",
        "\n",
        "all_movies_dict = \\\n",
        "  pd.Series(df_movies['title'].values,index=df_movies['movieId']).to_dict()"
      ],
      "execution_count": 5,
      "outputs": []
    },
    {
      "cell_type": "markdown",
      "metadata": {
        "id": "CfzqStOjB1iG"
      },
      "source": [
        "**Alternating Least Squares recommendation and evaluation**"
      ]
    },
    {
      "cell_type": "code",
      "metadata": {
        "id": "qppDSut9JnFQ",
        "outputId": "97cb5ca2-d488-4348-a1e7-0976b54acac0",
        "colab": {
          "base_uri": "https://localhost:8080/",
          "height": 206
        }
      },
      "source": [
        "df_prediction.head()"
      ],
      "execution_count": 6,
      "outputs": [
        {
          "output_type": "execute_result",
          "data": {
            "text/html": [
              "<div>\n",
              "<style scoped>\n",
              "    .dataframe tbody tr th:only-of-type {\n",
              "        vertical-align: middle;\n",
              "    }\n",
              "\n",
              "    .dataframe tbody tr th {\n",
              "        vertical-align: top;\n",
              "    }\n",
              "\n",
              "    .dataframe thead th {\n",
              "        text-align: right;\n",
              "    }\n",
              "</style>\n",
              "<table border=\"1\" class=\"dataframe\">\n",
              "  <thead>\n",
              "    <tr style=\"text-align: right;\">\n",
              "      <th></th>\n",
              "      <th>userId</th>\n",
              "      <th>movieId</th>\n",
              "      <th>predicted_rating</th>\n",
              "      <th>rating</th>\n",
              "    </tr>\n",
              "  </thead>\n",
              "  <tbody>\n",
              "    <tr>\n",
              "      <th>0</th>\n",
              "      <td>9591</td>\n",
              "      <td>32196</td>\n",
              "      <td>4.228439</td>\n",
              "      <td>3.5</td>\n",
              "    </tr>\n",
              "    <tr>\n",
              "      <th>1</th>\n",
              "      <td>5219</td>\n",
              "      <td>32196</td>\n",
              "      <td>2.835220</td>\n",
              "      <td>2.5</td>\n",
              "    </tr>\n",
              "    <tr>\n",
              "      <th>2</th>\n",
              "      <td>4796</td>\n",
              "      <td>91902</td>\n",
              "      <td>2.468013</td>\n",
              "      <td>4.5</td>\n",
              "    </tr>\n",
              "    <tr>\n",
              "      <th>3</th>\n",
              "      <td>4979</td>\n",
              "      <td>91902</td>\n",
              "      <td>1.387823</td>\n",
              "      <td>3.5</td>\n",
              "    </tr>\n",
              "    <tr>\n",
              "      <th>4</th>\n",
              "      <td>3846</td>\n",
              "      <td>68522</td>\n",
              "      <td>5.526903</td>\n",
              "      <td>4.5</td>\n",
              "    </tr>\n",
              "  </tbody>\n",
              "</table>\n",
              "</div>"
            ],
            "text/plain": [
              "   userId  movieId  predicted_rating  rating\n",
              "0    9591    32196          4.228439     3.5\n",
              "1    5219    32196          2.835220     2.5\n",
              "2    4796    91902          2.468013     4.5\n",
              "3    4979    91902          1.387823     3.5\n",
              "4    3846    68522          5.526903     4.5"
            ]
          },
          "metadata": {
            "tags": []
          },
          "execution_count": 6
        }
      ]
    },
    {
      "cell_type": "code",
      "metadata": {
        "id": "fAwC_Yo613rn"
      },
      "source": [
        "# all users in the validation set \n",
        "\n",
        "all_users = df_prediction['userId'].unique().tolist()"
      ],
      "execution_count": 7,
      "outputs": []
    },
    {
      "cell_type": "code",
      "metadata": {
        "id": "phdUiM3418bx"
      },
      "source": [
        "# recommendations as per \"predicted ratings\" in the validation set \n",
        "\n",
        "df_prediction1 = df_prediction[['userId', 'movieId', 'predicted_rating']]\n",
        "df_prediction1['predicted_movies'] = df_prediction1 \\\n",
        "  .apply(lambda x: (x['movieId'], x['predicted_rating']), axis=1)\n",
        "\n",
        "df_prediction2 = df_prediction1[['userId', 'predicted_movies']]\n",
        "\n",
        "df_prediction_formatted = df_prediction2 \\\n",
        "  .groupby('userId')['predicted_movies'].apply(list).reset_index(name='recommendation')\n",
        "\n",
        "df_prediction_sorted = df_prediction_formatted\n",
        "\n",
        "df_prediction_sorted['recommendation'] = \\\n",
        "  df_prediction_sorted['recommendation'].apply( \\\n",
        "    lambda x: sorted(x, key=lambda tup: tup[1], reverse=True))\n",
        "\n",
        "df_prediction_sorted.head()\n",
        "\n",
        "sorted_reco_by_userid = pd.Series( \\\n",
        "  df_prediction_sorted['recommendation'].values,index=df_prediction_sorted['userId']).to_dict()"
      ],
      "execution_count": 8,
      "outputs": []
    },
    {
      "cell_type": "code",
      "metadata": {
        "id": "LXzeaO7c2Ve5"
      },
      "source": [
        "# this function returns top N recommendations for a given user\n",
        "# based on the predicted ratings, N = 10 by default\n",
        "\n",
        "def get_top_n_recommendations(user, N=10):\n",
        "  top_n_reco = sorted_reco_by_userid[user][:N]\n",
        "  \n",
        "  return [all_movies_dict[str(int(x[0]))] for x in top_n_reco]"
      ],
      "execution_count": 9,
      "outputs": []
    },
    {
      "cell_type": "code",
      "metadata": {
        "id": "iKO3XC_x2x5t"
      },
      "source": [
        "# recommendations as per \"true ratings\" in the validation set\n",
        "\n",
        "df_true1 = df_prediction[['userId', 'movieId', 'rating']]\n",
        "df_true1['movies'] = df_true1 \\\n",
        "  .apply(lambda x: (x['movieId'], x['rating']), axis=1)\n",
        "\n",
        "df_true2 = df_true1[['userId', 'movies']]\n",
        "\n",
        "df_true_formatted = df_true2 \\\n",
        "  .groupby('userId')['movies'].apply(list).reset_index(name='recommendation')\n",
        "\n",
        "df_true_sorted = df_true_formatted\n",
        "\n",
        "df_true_sorted['recommendation'] = \\\n",
        "  df_true_sorted['recommendation'].apply( \\\n",
        "    lambda x: sorted(x, key=lambda tup: tup[1], reverse=True))\n",
        "\n",
        "df_true_sorted.head()\n",
        "\n",
        "sorted_true_ratings_by_userid = pd.Series( \\\n",
        "  df_true_sorted['recommendation'].values,index=df_true_sorted['userId']).to_dict()"
      ],
      "execution_count": 10,
      "outputs": []
    },
    {
      "cell_type": "code",
      "metadata": {
        "id": "R-XP065g3Vd_"
      },
      "source": [
        "# this function returns top N recommendations for a given user\n",
        "# based on the true ratings, N = 10 by default\n",
        "\n",
        "def get_top_n_true_ratings(user, N=10):\n",
        "  top_n_true_ratings = sorted_true_ratings_by_userid[user][:N]\n",
        "  \n",
        "  return [all_movies_dict[str(int(x[0]))] for x in top_n_true_ratings]"
      ],
      "execution_count": 11,
      "outputs": []
    },
    {
      "cell_type": "code",
      "metadata": {
        "id": "ecAppbC233ZE"
      },
      "source": [
        "# get recommendation for each user in the validation set\n",
        "\n",
        "top_n_recommendations_by_user = {}\n",
        "\n",
        "user_out = []\n",
        "for user in all_users:\n",
        "  out = []\n",
        "\n",
        "  # user\n",
        "  out.append(user)\n",
        "\n",
        "  # top N recommendations (n = 10 by default)\n",
        "  top_n_reco_for_user = get_top_n_recommendations(user)\n",
        "  top_n_recommendations_by_user[user] = top_n_reco_for_user\n",
        "\n",
        "  top_n_true_ratings_for_user = get_top_n_true_ratings(user)\n",
        "  true_positives = list(set(top_n_reco_for_user) & set(top_n_true_ratings_for_user))\n",
        "  false_positives = list(set(top_n_reco_for_user) - set(top_n_true_ratings_for_user))\n",
        "  false_negatives = list(set(top_n_true_ratings_for_user) - set(top_n_reco_for_user))\n",
        "\n",
        "  # Compute precision for this user\n",
        "  precision_for_user = len(true_positives) / float(len(true_positives) + len(false_positives))\n",
        "  out.append(precision_for_user)\n",
        "\n",
        "  # Compute recall for this user\n",
        "  recall_for_user = len(true_positives) / float(len(true_positives) + len(false_negatives))\n",
        "  out.append(recall_for_user)\n",
        "  \n",
        "  user_out.append(out)"
      ],
      "execution_count": 12,
      "outputs": []
    },
    {
      "cell_type": "code",
      "metadata": {
        "id": "P9hh3vzT7bwp",
        "outputId": "f74f6a74-8966-498c-c64b-d69b5821cd9c",
        "colab": {
          "base_uri": "https://localhost:8080/",
          "height": 424
        }
      },
      "source": [
        "# Recommendation evaluation for all users in the validation set\n",
        "\n",
        "df_out = pd.DataFrame(user_out, columns=['userId', 'precision_user', 'recall_user'])\n",
        "df_out"
      ],
      "execution_count": 13,
      "outputs": [
        {
          "output_type": "execute_result",
          "data": {
            "text/html": [
              "<div>\n",
              "<style scoped>\n",
              "    .dataframe tbody tr th:only-of-type {\n",
              "        vertical-align: middle;\n",
              "    }\n",
              "\n",
              "    .dataframe tbody tr th {\n",
              "        vertical-align: top;\n",
              "    }\n",
              "\n",
              "    .dataframe thead th {\n",
              "        text-align: right;\n",
              "    }\n",
              "</style>\n",
              "<table border=\"1\" class=\"dataframe\">\n",
              "  <thead>\n",
              "    <tr style=\"text-align: right;\">\n",
              "      <th></th>\n",
              "      <th>userId</th>\n",
              "      <th>precision_user</th>\n",
              "      <th>recall_user</th>\n",
              "    </tr>\n",
              "  </thead>\n",
              "  <tbody>\n",
              "    <tr>\n",
              "      <th>0</th>\n",
              "      <td>9591</td>\n",
              "      <td>0.2</td>\n",
              "      <td>0.2</td>\n",
              "    </tr>\n",
              "    <tr>\n",
              "      <th>1</th>\n",
              "      <td>5219</td>\n",
              "      <td>0.0</td>\n",
              "      <td>0.0</td>\n",
              "    </tr>\n",
              "    <tr>\n",
              "      <th>2</th>\n",
              "      <td>4796</td>\n",
              "      <td>0.0</td>\n",
              "      <td>0.0</td>\n",
              "    </tr>\n",
              "    <tr>\n",
              "      <th>3</th>\n",
              "      <td>4979</td>\n",
              "      <td>0.8</td>\n",
              "      <td>0.8</td>\n",
              "    </tr>\n",
              "    <tr>\n",
              "      <th>4</th>\n",
              "      <td>3846</td>\n",
              "      <td>0.1</td>\n",
              "      <td>0.1</td>\n",
              "    </tr>\n",
              "    <tr>\n",
              "      <th>...</th>\n",
              "      <td>...</td>\n",
              "      <td>...</td>\n",
              "      <td>...</td>\n",
              "    </tr>\n",
              "    <tr>\n",
              "      <th>11407</th>\n",
              "      <td>5540</td>\n",
              "      <td>1.0</td>\n",
              "      <td>1.0</td>\n",
              "    </tr>\n",
              "    <tr>\n",
              "      <th>11408</th>\n",
              "      <td>10591</td>\n",
              "      <td>1.0</td>\n",
              "      <td>1.0</td>\n",
              "    </tr>\n",
              "    <tr>\n",
              "      <th>11409</th>\n",
              "      <td>5225</td>\n",
              "      <td>1.0</td>\n",
              "      <td>1.0</td>\n",
              "    </tr>\n",
              "    <tr>\n",
              "      <th>11410</th>\n",
              "      <td>260</td>\n",
              "      <td>1.0</td>\n",
              "      <td>1.0</td>\n",
              "    </tr>\n",
              "    <tr>\n",
              "      <th>11411</th>\n",
              "      <td>1919</td>\n",
              "      <td>1.0</td>\n",
              "      <td>1.0</td>\n",
              "    </tr>\n",
              "  </tbody>\n",
              "</table>\n",
              "<p>11412 rows × 3 columns</p>\n",
              "</div>"
            ],
            "text/plain": [
              "       userId  precision_user  recall_user\n",
              "0        9591             0.2          0.2\n",
              "1        5219             0.0          0.0\n",
              "2        4796             0.0          0.0\n",
              "3        4979             0.8          0.8\n",
              "4        3846             0.1          0.1\n",
              "...       ...             ...          ...\n",
              "11407    5540             1.0          1.0\n",
              "11408   10591             1.0          1.0\n",
              "11409    5225             1.0          1.0\n",
              "11410     260             1.0          1.0\n",
              "11411    1919             1.0          1.0\n",
              "\n",
              "[11412 rows x 3 columns]"
            ]
          },
          "metadata": {
            "tags": []
          },
          "execution_count": 13
        }
      ]
    },
    {
      "cell_type": "code",
      "metadata": {
        "id": "1lyYkylC7f1r",
        "outputId": "86c15282-5670-44ed-a1c0-dad859734e7c",
        "colab": {
          "base_uri": "https://localhost:8080/",
          "height": 69
        }
      },
      "source": [
        "# top N recommendations for a user example\n",
        "\n",
        "top_n_recommendations_by_user[7]"
      ],
      "execution_count": 14,
      "outputs": [
        {
          "output_type": "execute_result",
          "data": {
            "text/plain": [
              "[\"Rosemary's Baby (1968)\",\n",
              " 'About Schmidt (2002)',\n",
              " 'When a Man Loves a Woman (1994)']"
            ]
          },
          "metadata": {
            "tags": []
          },
          "execution_count": 14
        }
      ]
    },
    {
      "cell_type": "code",
      "metadata": {
        "id": "6s4tQp2p7ixG",
        "outputId": "b14576b0-8e1d-4265-e35a-a8a8fb9c7c1d",
        "colab": {
          "base_uri": "https://localhost:8080/",
          "height": 104
        }
      },
      "source": [
        "# EVALUATION\n",
        "\n",
        "# mae\n",
        "from sklearn.metrics import mean_absolute_error\n",
        "mae = mean_absolute_error(df_prediction['rating'], df_prediction['predicted_rating'])\n",
        "print('mae', mae)\n",
        "\n",
        "# rmse\n",
        "from sklearn.metrics import mean_squared_error\n",
        "from math import sqrt\n",
        "rmse = sqrt(mean_squared_error(df_prediction['rating'], df_prediction['predicted_rating']))\n",
        "print('rmse', rmse)\n",
        "\n",
        "# precision\n",
        "precision = df_out['precision_user'].mean()\n",
        "print('avg precision', precision)\n",
        "\n",
        "# recall\n",
        "recall = df_out['recall_user'].mean()\n",
        "print('avg recall', recall)\n",
        "\n",
        "# f measure\n",
        "f_measure = (2.0 * precision * recall) / (precision + recall)\n",
        "print('f measure', f_measure)"
      ],
      "execution_count": 15,
      "outputs": [
        {
          "output_type": "stream",
          "text": [
            "mae 1.0483368957654835\n",
            "rmse 1.3392225856999769\n",
            "avg precision 0.7737469330529255\n",
            "avg recall 0.7737469330529255\n",
            "f measure 0.7737469330529255\n"
          ],
          "name": "stdout"
        }
      ]
    }
  ]
}